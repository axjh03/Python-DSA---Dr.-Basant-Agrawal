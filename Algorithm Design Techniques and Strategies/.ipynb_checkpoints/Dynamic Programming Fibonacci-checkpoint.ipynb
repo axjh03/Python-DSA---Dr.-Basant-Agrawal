{
 "cells": [
  {
   "cell_type": "code",
   "execution_count": 6,
   "id": "982f8f99",
   "metadata": {},
   "outputs": [],
   "source": [
    "def dynamic_fib(n): # Find the fibonacci number value\n",
    "    if n <= 1:\n",
    "        return n\n",
    "    \n",
    "    if lookup[n] is not None: # Our list that stores the value of sub problems and returns the value of problem that's already computed and stored\n",
    "        return lookup[n]\n",
    "    \n",
    "    lookup[n] = dynamic_fib(n-1)+dynamic_fib(n-2) # Start reccursion and keep storing the values\n",
    "    \n",
    "    return lookup[n]\n",
    "\n"
   ]
  },
  {
   "cell_type": "code",
   "execution_count": 7,
   "id": "2147a8ca",
   "metadata": {},
   "outputs": [
    {
     "name": "stdout",
     "output_type": "stream",
     "text": [
      "0\n",
      "1\n",
      "1\n",
      "2\n",
      "3\n",
      "5\n",
      "8\n",
      "13\n",
      "21\n",
      "34\n"
     ]
    }
   ],
   "source": [
    "lookup = [None] * (100) # Create a list of size 100\n",
    "\n",
    "# Use list or array for dynamic access\n",
    "\n",
    "for i in range(10):\n",
    "    print(dynamic_fib(i))"
   ]
  },
  {
   "cell_type": "code",
   "execution_count": null,
   "id": "10b742eb",
   "metadata": {},
   "outputs": [],
   "source": []
  }
 ],
 "metadata": {
  "kernelspec": {
   "display_name": "Python 3 (ipykernel)",
   "language": "python",
   "name": "python3"
  },
  "language_info": {
   "codemirror_mode": {
    "name": "ipython",
    "version": 3
   },
   "file_extension": ".py",
   "mimetype": "text/x-python",
   "name": "python",
   "nbconvert_exporter": "python",
   "pygments_lexer": "ipython3",
   "version": "3.11.5"
  }
 },
 "nbformat": 4,
 "nbformat_minor": 5
}
