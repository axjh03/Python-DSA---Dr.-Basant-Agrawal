{
 "cells": [
  {
   "cell_type": "markdown",
   "id": "b8a0b245",
   "metadata": {},
   "source": [
    "## Membership means we wish to test if a given value is stores in the sequence variable, such as string, list or tuple."
   ]
  },
  {
   "cell_type": "markdown",
   "id": "2b6b8770",
   "metadata": {},
   "source": [
    "### 'in' operator"
   ]
  },
  {
   "cell_type": "code",
   "execution_count": 2,
   "id": "a405d357",
   "metadata": {},
   "outputs": [
    {
     "name": "stdout",
     "output_type": "stream",
     "text": [
      "20 is not overlapping\n"
     ]
    }
   ],
   "source": [
    "# Program 1\n",
    "\n",
    "# Python program to check if an item of a list is present in another list using an 'in' operator\n",
    "\n",
    "mylist1 = [100,20,30,40]\n",
    "mylist2 = [100,50,60,70]\n",
    "\n",
    "if mylist1[1] in mylist2:\n",
    "    print(\"20 is overlapping\")\n",
    "else:\n",
    "    print(\"20 is not overlapping\")\n",
    "    "
   ]
  },
  {
   "cell_type": "code",
   "execution_count": 3,
   "id": "9c1a1e58",
   "metadata": {},
   "outputs": [
    {
     "name": "stdout",
     "output_type": "stream",
     "text": [
      "100 is overlapping\n"
     ]
    }
   ],
   "source": [
    "if mylist1[0] in mylist2:\n",
    "    print(\"100 is overlapping\")\n",
    "else:\n",
    "    print(\"100 is not overlapping\")\n",
    "    "
   ]
  },
  {
   "cell_type": "markdown",
   "id": "6c888764",
   "metadata": {},
   "source": [
    "### 'not in'  operator "
   ]
  },
  {
   "cell_type": "code",
   "execution_count": 4,
   "id": "776b1c8e",
   "metadata": {},
   "outputs": [
    {
     "name": "stdout",
     "output_type": "stream",
     "text": [
      "104 is in my_list\n",
      "104 is not in my_list1\n"
     ]
    }
   ],
   "source": [
    "# Find if a variable is in a list\n",
    "\n",
    "val = 104;\n",
    "my_list = [100,104,200,300]\n",
    "my_list1 = [30,40,90,50]\n",
    "\n",
    "if val not in my_list:\n",
    "    print(\"104 is not in my_list\")\n",
    "else:\n",
    "    print(\"104 is in my_list\")\n",
    "    \n",
    "if val not in my_list1:\n",
    "    print(\"104 is not in my_list1\")\n",
    "else:\n",
    "    print(\"104 is in my_list1\")"
   ]
  },
  {
   "cell_type": "markdown",
   "id": "bb05c054",
   "metadata": {},
   "source": [
    "## Identity operators"
   ]
  },
  {
   "cell_type": "markdown",
   "id": "a73ddf4b",
   "metadata": {},
   "source": [
    "### This operator is used to check weather two varibles refer to the same object.\n",
    "### There are different types of identity operators\n",
    "#### 1.) is\n",
    "#### 2.) is not\n",
    "### These are different from the equality(==) operator "
   ]
  },
  {
   "cell_type": "markdown",
   "id": "58eeba50",
   "metadata": {},
   "source": [
    "## In Identity operator, It returns 'true' if both variable are pointing to same object, whereas in equality operator we check if two variables are equal."
   ]
  },
  {
   "cell_type": "code",
   "execution_count": 2,
   "id": "661a32b4",
   "metadata": {},
   "outputs": [
    {
     "name": "stdout",
     "output_type": "stream",
     "text": [
      "Both are equal\n",
      "Both are not pointing to the same object\n"
     ]
    }
   ],
   "source": [
    "firstList = []\n",
    "secondList = []\n",
    "\n",
    "if firstList == secondList:\n",
    "    print(\"Both are equal\")\n",
    "else : \n",
    "    print(\"Both are not equal\")\n",
    "    \n",
    "if firstList is secondList:\n",
    "    print(\"Both are pointint to the same object\")\n",
    "else:\n",
    "    print(\"Both are not pointing to the same object\")\n"
   ]
  },
  {
   "cell_type": "code",
   "execution_count": 3,
   "id": "974d4830",
   "metadata": {},
   "outputs": [
    {
     "name": "stdout",
     "output_type": "stream",
     "text": [
      "Both are pointing to the same object\n"
     ]
    }
   ],
   "source": [
    "thirdList = firstList\n",
    "\n",
    "if thirdList is firstList:\n",
    "    print(\"Both are pointing to the same object\")\n",
    "else:\n",
    "    print(\"Both are not pointing to the same object\")"
   ]
  },
  {
   "cell_type": "code",
   "execution_count": 5,
   "id": "80762f9c",
   "metadata": {},
   "outputs": [
    {
     "name": "stdout",
     "output_type": "stream",
     "text": [
      "Both are not pointing to the same object\n"
     ]
    }
   ],
   "source": [
    "fourthList = firstList.copy()\n",
    "if fourthList is firstList:\n",
    "    print(\"Both are pointing to the same object\")\n",
    "else:\n",
    "    print(\"Both are not pointing to the same object\")"
   ]
  },
  {
   "cell_type": "code",
   "execution_count": null,
   "id": "31b56cf3",
   "metadata": {},
   "outputs": [],
   "source": [
    "# Conclusion : "
   ]
  }
 ],
 "metadata": {
  "kernelspec": {
   "display_name": "Python 3 (ipykernel)",
   "language": "python",
   "name": "python3"
  },
  "language_info": {
   "codemirror_mode": {
    "name": "ipython",
    "version": 3
   },
   "file_extension": ".py",
   "mimetype": "text/x-python",
   "name": "python",
   "nbconvert_exporter": "python",
   "pygments_lexer": "ipython3",
   "version": "3.10.12"
  }
 },
 "nbformat": 4,
 "nbformat_minor": 5
}
