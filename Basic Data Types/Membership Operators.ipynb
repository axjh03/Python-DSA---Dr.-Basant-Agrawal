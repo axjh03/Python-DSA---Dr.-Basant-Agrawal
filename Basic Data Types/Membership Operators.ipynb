{
 "cells": [
  {
   "cell_type": "markdown",
   "id": "264b12ae",
   "metadata": {},
   "source": [
    "### Membership means we wish to test if a given value is stores in the sequence variable, such as string, list or tuple."
   ]
  },
  {
   "cell_type": "code",
   "execution_count": null,
   "id": "dfbe995e",
   "metadata": {},
   "outputs": [],
   "source": [
    "# Program 1\n",
    "\n",
    "#Python program to check if an item of a list is present in another list using an 'in' operator\n",
    "\n"
   ]
  }
 ],
 "metadata": {
  "kernelspec": {
   "display_name": "Python 3 (ipykernel)",
   "language": "python",
   "name": "python3"
  },
  "language_info": {
   "codemirror_mode": {
    "name": "ipython",
    "version": 3
   },
   "file_extension": ".py",
   "mimetype": "text/x-python",
   "name": "python",
   "nbconvert_exporter": "python",
   "pygments_lexer": "ipython3",
   "version": "3.10.12"
  }
 },
 "nbformat": 4,
 "nbformat_minor": 5
}
