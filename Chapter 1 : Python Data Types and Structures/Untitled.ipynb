{
 "cells": [
  {
   "cell_type": "markdown",
   "id": "0214ea99",
   "metadata": {},
   "source": [
    " ## What is a Algorithm?"
   ]
  },
  {
   "cell_type": "raw",
   "id": "f495ed75",
   "metadata": {},
   "source": [
    "An algorithm can be defined as a step by step instructions for a program to follow to solve any given problem; An Algorithm process the input data and gives the output based on the specific problem."
   ]
  },
  {
   "cell_type": "markdown",
   "id": "49e73d06",
   "metadata": {},
   "source": [
    "## What is Data Structure used for?\n"
   ]
  },
  {
   "cell_type": "raw",
   "id": "02c1887d",
   "metadata": {},
   "source": [
    "Data structure deals with how the data is stored and organized in memory of the computer that is going to be used in the program"
   ]
  },
  {
   "cell_type": "markdown",
   "id": "a465b8e7",
   "metadata": {},
   "source": [
    "# Overview of Data Types and Obejcts"
   ]
  },
  {
   "cell_type": "markdown",
   "id": "ae9c6322",
   "metadata": {},
   "source": [
    "An Algorithm can be converted into a computer software using any programming language.\n",
    "\n",
    "The performance efficency of a computer software depends highly upon how the data is stored in the memory of the computer, which is then going to be used in the computer"
   ]
  },
  {
   "cell_type": "raw",
   "id": "a614f2d2",
   "metadata": {},
   "source": [
    "Python is a Dynamically Typed Language which means the data type of a variable is not required while defining a variable. Python automatically recognize the type of variable during the runtime"
   ]
  },
  {
   "cell_type": "raw",
   "id": "0ce60653",
   "metadata": {},
   "source": [
    "There are various type of Data Structures : \n",
    "    1.) Numeric types  : Intergers (int), float, complex\n",
    "    2.) Boolean types  : bool\n",
    "    3.) Sequence types : String(str), range, list, tuple\n",
    "    4.) Mapping types  : Dictionary(dict)\n",
    "    5.) Set types      : set, frozenset"
   ]
  },
  {
   "cell_type": "markdown",
   "id": "415f9e3f",
   "metadata": {},
   "source": [
    "### type()"
   ]
  },
  {
   "cell_type": "code",
   "execution_count": 2,
   "id": "1c60f2bd",
   "metadata": {},
   "outputs": [
    {
     "name": "stdout",
     "output_type": "stream",
     "text": [
      "var1 = <class 'str'>\n",
      "var2 = <class 'int'>\n",
      "var3 = <class 'float'>\n",
      "var4 = <class 'list'>\n",
      "var5 = <class 'set'>\n",
      "\n"
     ]
    }
   ],
   "source": [
    "# We can check the type of the variable using the type() function\n",
    "\n",
    "var1 = \"Hello World\"\n",
    "var2 = 3\n",
    "var3 = 4.5\n",
    "var4 = [1,2]\n",
    "var5 = {1,2,4}\n",
    "print(f\"var1 = {type(var1)}\\nvar2 = {type(var2)}\\nvar3 = {type(var3)}\\nvar4 = {type(var4)}\\nvar5 = {type(var5)}\\n\")"
   ]
  },
  {
   "cell_type": "markdown",
   "id": "845781b5",
   "metadata": {},
   "source": [
    "### Basic Data Types"
   ]
  },
  {
   "cell_type": "raw",
   "id": "5c1909f2",
   "metadata": {},
   "source": [
    "    Numeric :\n",
    "        Interger : Example : 45, 19 , 100, -49, -10 ; Basically with no decimals\n",
    "        Float    : 3.1, 4.3 ; Basically with decimals\n",
    "        Complex  : Represented using two floating-point values. It contains ordered pair such                    as a+ib, where a and b are real value and i is an imiginary value. \n",
    "                   E.g : 3.0 + 1.3j, 4.0j and so on"
   ]
  },
  {
   "cell_type": "code",
   "execution_count": 15,
   "id": "0ed715af",
   "metadata": {},
   "outputs": [
    {
     "name": "stdout",
     "output_type": "stream",
     "text": [
      "int1 = <class 'int'>\tint2 = <class 'int'>\n",
      "float1 = <class 'float'> float2 = <class 'float'>\n",
      "cmplx1 = <class 'complex'> cmplx2 = <class 'complex'> cmplx3 = <class 'complex'>\n"
     ]
    }
   ],
   "source": [
    "int1 = 4; int2 = -4\n",
    "print(f\"int1 = {type(int1)}\\tint2 = {type(int2)}\")\n",
    "float1 = 4.0; float2 = -4.2\n",
    "print(f\"float1 = {type(float1)} float2 = {type(float2)}\")\n",
    "cmplx1 = 3.0 + 1.3j; cmplx2 = -4.2 + 3.1j; cmplx3 = -4.2j\n",
    "print(f\"cmplx1 = {type(cmplx1)} cmplx2 = {type(cmplx2)} cmplx3 = {type(cmplx3)}\")"
   ]
  },
  {
   "cell_type": "raw",
   "id": "c00bc379",
   "metadata": {},
   "source": [
    "Boolean\n",
    "\n",
    "It's either True or False. False is always represented by 0 numerically and True is anything but 0. "
   ]
  },
  {
   "cell_type": "code",
   "execution_count": 16,
   "id": "310448f0",
   "metadata": {},
   "outputs": [
    {
     "name": "stdout",
     "output_type": "stream",
     "text": [
      "False\n",
      "True\n",
      "True\n",
      "True\n",
      "True\n"
     ]
    }
   ],
   "source": [
    "# We can use bool() function to check\n",
    "\n",
    "print(bool(0))\n",
    "print(bool(1))\n",
    "print(bool(4))\n",
    "print(bool(0.3))\n",
    "print(bool(-0.2))"
   ]
  },
  {
   "cell_type": "markdown",
   "id": "3c463179",
   "metadata": {},
   "source": [
    "## Sequences\n",
    "\n",
    "A string is immutable sequence of characters represented in single, double or triple quotes."
   ]
  },
  {
   "cell_type": "code",
   "execution_count": 28,
   "id": "6e4839d7",
   "metadata": {},
   "outputs": [
    {
     "name": "stdout",
     "output_type": "stream",
     "text": [
      "type : <class 'str'>\n",
      "Changed\n",
      "Before : <class 'int'>\t Value : 4\n",
      "After : <class 'float'>\t Value : 4.0\n",
      "Error : could not convert string to float\n"
     ]
    }
   ],
   "source": [
    "# What does immutable mean? \n",
    "# Lets say there is a string str1\n",
    "str1 = \" This is a string which is naturally immutable\"\n",
    "# Lets type of change it's content\n",
    "str1 = \"Changed\"\n",
    "print(f\"type : {type(str1)}\\n{str1}\")\n",
    "\n",
    "# Lets say there is a integer 4, we want to change to float\n",
    "var1 = 4\n",
    "print(f\"Before : {type(var1)}\\t Value : {var1}\")\n",
    "var1 = float(var1)\n",
    "print(f\"After : {type(var1)}\\t Value : {var1}\")\n",
    "\n",
    "\n",
    "# Lets try same thing with an string\n",
    "try : \n",
    "    str1 = float(str1);\n",
    "except :\n",
    "    print (\"Error : could not convert string to float\")\n",
    "    \n",
    "# We get an error. That means it cannot be typecasted"
   ]
  },
  {
   "cell_type": "markdown",
   "id": "7d3c743c",
   "metadata": {},
   "source": [
    "### Add two Strings..\n",
    "### What?????"
   ]
  },
  {
   "cell_type": "code",
   "execution_count": 30,
   "id": "d55b3165",
   "metadata": {},
   "outputs": [
    {
     "name": "stdout",
     "output_type": "stream",
     "text": [
      "Datastructures\n"
     ]
    }
   ],
   "source": [
    "# Only concatenate two strings\n",
    "f = \"Data\"; s = \"structures\"\n",
    "print(f+s)"
   ]
  },
  {
   "cell_type": "markdown",
   "id": "7b27e529",
   "metadata": {},
   "source": [
    "## Multiply ? "
   ]
  },
  {
   "cell_type": "code",
   "execution_count": 33,
   "id": "fb6c889d",
   "metadata": {},
   "outputs": [
    {
     "name": "stdout",
     "output_type": "stream",
     "text": [
      "DataDataDataData\n"
     ]
    }
   ],
   "source": [
    "print(f*4) # Just see what it will do"
   ]
  },
  {
   "cell_type": "markdown",
   "id": "ba9be92b",
   "metadata": {},
   "source": [
    "## Range"
   ]
  },
  {
   "cell_type": "code",
   "execution_count": 36,
   "id": "be198e16",
   "metadata": {},
   "outputs": [
    {
     "name": "stdout",
     "output_type": "stream",
     "text": [
      "range(0, 10, 2)\n",
      "[0, 2, 4, 6, 8]\n"
     ]
    }
   ],
   "source": [
    "# range(start, stop, step)\n",
    "# - start => what is the number to start from. It's inclusive\n",
    "# - end   => where to stop. It's exclusive \n",
    "# - step  => how many steps to jump; deafult is 0.\n",
    "\n",
    "print(range(0,10,2))\n",
    "print(list(range(0,10,2)))"
   ]
  },
  {
   "cell_type": "markdown",
   "id": "c1cce42e",
   "metadata": {},
   "source": [
    "## Lists"
   ]
  },
  {
   "cell_type": "raw",
   "id": "2057a987",
   "metadata": {},
   "source": [
    "Properties Key Points : \n",
    "1. Ordered : They are ordered in a sequence. The order never changes.\n",
    "2. Dynamic : Size of the list can be either increased or decreased by (Adding) or (Deleting) list items \n",
    "3. Abitary Set of Objects : The list can containn elements of any data type\n",
    "4. Accessible via index. : The elements of the list can be accessed via index. P.S : The index starts from 0. :)\n",
    "5. Mutable : Elements can be updated by pin pointing the index of the element we want to change. \n"
   ]
  },
  {
   "cell_type": "code",
   "execution_count": 37,
   "id": "b9771e3a",
   "metadata": {},
   "outputs": [],
   "source": [
    "\n",
    "list1 = [\"name1\", \"name2\", 3,4,5.3,-1]\n"
   ]
  },
  {
   "cell_type": "code",
   "execution_count": 38,
   "id": "5309f8a5",
   "metadata": {},
   "outputs": [
    {
     "name": "stdout",
     "output_type": "stream",
     "text": [
      "<class 'list'>\n"
     ]
    }
   ],
   "source": [
    "print(type(list1))"
   ]
  },
  {
   "cell_type": "code",
   "execution_count": 39,
   "id": "7e53d2cd",
   "metadata": {},
   "outputs": [
    {
     "name": "stdout",
     "output_type": "stream",
     "text": [
      "<class 'list'>\n"
     ]
    }
   ],
   "source": [
    "#it can have same element\n",
    "list1 = [\"name1\", \"name2\", 3,4,5.3,-1, \"name1\"]\n",
    "print(type(list1))"
   ]
  },
  {
   "cell_type": "code",
   "execution_count": 41,
   "id": "809ef274",
   "metadata": {},
   "outputs": [
    {
     "name": "stdout",
     "output_type": "stream",
     "text": [
      "4\n"
     ]
    }
   ],
   "source": [
    "# We can call by Index : \n",
    "print(list1[3])"
   ]
  },
  {
   "cell_type": "code",
   "execution_count": 45,
   "id": "e6a6e4cf",
   "metadata": {},
   "outputs": [
    {
     "name": "stdout",
     "output_type": "stream",
     "text": [
      "True\n",
      "False\n"
     ]
    }
   ],
   "source": [
    "## Ordered Property\n",
    "\n",
    "print([1,2,3] == [1,2,3])\n",
    "print([1,2,3] == [3,1,2])"
   ]
  },
  {
   "cell_type": "raw",
   "id": "0cbdc1a3",
   "metadata": {},
   "source": [
    "Dynamic Property\n",
    "  The list is dynamic that means, it can grow or shrink"
   ]
  },
  {
   "cell_type": "code",
   "execution_count": 1,
   "id": "78d0852d",
   "metadata": {},
   "outputs": [
    {
     "name": "stdout",
     "output_type": "stream",
     "text": [
      "['Aalok', 43.2, 'ea', 4]\n"
     ]
    }
   ],
   "source": [
    "b = [\"Aalok\", 43.2, \"ea\", 4]\n",
    "print(b)"
   ]
  },
  {
   "cell_type": "code",
   "execution_count": 2,
   "id": "79bfcccd",
   "metadata": {},
   "outputs": [
    {
     "ename": "TypeError",
     "evalue": "can only concatenate list (not \"str\") to list",
     "output_type": "error",
     "traceback": [
      "\u001b[0;31m---------------------------------------------------------------------------\u001b[0m",
      "\u001b[0;31mTypeError\u001b[0m                                 Traceback (most recent call last)",
      "Cell \u001b[0;32mIn[2], line 1\u001b[0m\n\u001b[0;32m----> 1\u001b[0m b \u001b[38;5;241m=\u001b[39m b\u001b[38;5;241m+\u001b[39m\u001b[38;5;124m'\u001b[39m\u001b[38;5;124mNew String\u001b[39m\u001b[38;5;124m'\u001b[39m\n\u001b[1;32m      2\u001b[0m \u001b[38;5;28mprint\u001b[39m(b)\n",
      "\u001b[0;31mTypeError\u001b[0m: can only concatenate list (not \"str\") to list"
     ]
    }
   ],
   "source": [
    "b = b+['New String']\n",
    "print(b)"
   ]
  },
  {
   "cell_type": "raw",
   "id": "4d5b3b6f",
   "metadata": {},
   "source": [
    "We can only add via concatenatation, i.e append another list. "
   ]
  },
  {
   "cell_type": "code",
   "execution_count": 8,
   "id": "4e4a13f0",
   "metadata": {},
   "outputs": [
    {
     "name": "stdout",
     "output_type": "stream",
     "text": [
      "['Aalok', 43.2, 'ea', 4, 'New String', 'New String', 'New String']\n",
      "7\n"
     ]
    }
   ],
   "source": [
    "b = b+['New String']\n",
    "print(b)\n",
    "print(len(b)) # len() to get the size of the list. "
   ]
  },
  {
   "cell_type": "code",
   "execution_count": 9,
   "id": "f346af70",
   "metadata": {},
   "outputs": [
    {
     "name": "stdout",
     "output_type": "stream",
     "text": [
      "['Aalok', 43.2, 'ea', 4, 'New String', 'New String']\n",
      "6\n"
     ]
    }
   ],
   "source": [
    "# We can even delete and item from the list via the index. \n",
    "del b[4]\n",
    "print(b)\n",
    "print(len(b))"
   ]
  },
  {
   "cell_type": "code",
   "execution_count": 5,
   "id": "f748d22b",
   "metadata": {},
   "outputs": [
    {
     "name": "stdout",
     "output_type": "stream",
     "text": [
      "435\n"
     ]
    }
   ],
   "source": [
    "## Accessible via Index\n",
    "list1 = [32,44,435,213,5,2]\n",
    "print(list1[2])"
   ]
  },
  {
   "cell_type": "code",
   "execution_count": 16,
   "id": "e4f572ea",
   "metadata": {},
   "outputs": [
    {
     "name": "stdout",
     "output_type": "stream",
     "text": [
      "23\n",
      "33223\n",
      "[2, 4, 'changed', 44, 'iurfe', '438dsdv']\n",
      "['changed', 44, 'iurfe', '438dsdv']\n",
      "['c', 'h', 'a', 'n', 'g', 'e', 'd', '438dsdv']\n"
     ]
    }
   ],
   "source": [
    "## Changing a item in lits\n",
    "list1 = [\"a\", 'b', 23, 44, 'iurfe', '438dsdv']\n",
    "print(list1[2])\n",
    "list1[2] = 33223\n",
    "print(list1[2])\n",
    "list1[0:3] = [2, 4, 'changed']\n",
    "print(list1)\n",
    "list1[0:3] = ['changed']\n",
    "print(list1)\n",
    "list1[0:3] = 'changed'\n",
    "print(list1)"
   ]
  },
  {
   "cell_type": "markdown",
   "id": "52723516",
   "metadata": {},
   "source": [
    "### Membership, identity and logical operations"
   ]
  },
  {
   "cell_type": "raw",
   "id": "b14c03c2",
   "metadata": {},
   "source": [
    "These operators are used to check the membership of an item, i.e if an item is stored in or is contained in a sequence variable [ex : string, list or tuple]\n"
   ]
  },
  {
   "cell_type": "code",
   "execution_count": 17,
   "id": "a84a84c0",
   "metadata": {},
   "outputs": [],
   "source": [
    "string1 = \"ThisIsAString\""
   ]
  },
  {
   "cell_type": "code",
   "execution_count": 19,
   "id": "a543f25d",
   "metadata": {},
   "outputs": [
    {
     "name": "stdout",
     "output_type": "stream",
     "text": [
      "s\n"
     ]
    },
    {
     "data": {
      "text/plain": [
       "13"
      ]
     },
     "execution_count": 19,
     "metadata": {},
     "output_type": "execute_result"
    }
   ],
   "source": [
    "print(string1[3]) # Since string is a a sequence variable you can look something in it via index. \n",
    "len(string1)"
   ]
  },
  {
   "cell_type": "raw",
   "id": "edf4e553",
   "metadata": {},
   "source": [
    "There are two types of membership operators\n",
    "1.) in\n",
    "2.) not in"
   ]
  },
  {
   "cell_type": "code",
   "execution_count": 24,
   "id": "c9f57bbc",
   "metadata": {},
   "outputs": [],
   "source": [
    "mylist1 = [100, 20, 30, 10]\n",
    "mylist2 = [10, 400, 38, 90]"
   ]
  },
  {
   "cell_type": "markdown",
   "id": "f04665a1",
   "metadata": {},
   "source": [
    "#### in"
   ]
  },
  {
   "cell_type": "code",
   "execution_count": 25,
   "id": "d0c67257",
   "metadata": {},
   "outputs": [
    {
     "name": "stdout",
     "output_type": "stream",
     "text": [
      "element mylist2[0] = 10 is overlapping with mylist1\n"
     ]
    }
   ],
   "source": [
    "if mylist2[0] in mylist1:\n",
    "    print(f\"element mylist2[0] = {mylist2[0]} is overlapping with mylist1\")"
   ]
  },
  {
   "cell_type": "code",
   "execution_count": 26,
   "id": "17038658",
   "metadata": {},
   "outputs": [
    {
     "name": "stdout",
     "output_type": "stream",
     "text": [
      "10 is overlapping with mylist1\n"
     ]
    }
   ],
   "source": [
    "if 10 in mylist1:\n",
    "    print(f\"10 is overlapping with mylist1\")\n",
    "else:\n",
    "    print(\"the element is not in mylist1\")"
   ]
  },
  {
   "cell_type": "code",
   "execution_count": 27,
   "id": "cb5434ed",
   "metadata": {},
   "outputs": [
    {
     "name": "stdout",
     "output_type": "stream",
     "text": [
      "the element is not in mylist1\n"
     ]
    }
   ],
   "source": [
    "if 13 in mylist1:\n",
    "    print(f\"10 is overlapping with mylist1\")\n",
    "else:\n",
    "    print(\"the element is not in mylist1\")"
   ]
  },
  {
   "cell_type": "markdown",
   "id": "a81ac69f",
   "metadata": {},
   "source": [
    "#### not in"
   ]
  },
  {
   "cell_type": "code",
   "execution_count": 29,
   "id": "7e37771f",
   "metadata": {},
   "outputs": [
    {
     "name": "stdout",
     "output_type": "stream",
     "text": [
      "Element 23 is not in either of the lists.\n"
     ]
    }
   ],
   "source": [
    "if '23' not in mylist1 or mylist2:\n",
    "    print(\"Element 23 is not in either of the lists.\")\n",
    "else:\n",
    "    print(\"Gotcha\")"
   ]
  },
  {
   "cell_type": "code",
   "execution_count": 31,
   "id": "8cb04954",
   "metadata": {},
   "outputs": [
    {
     "name": "stdout",
     "output_type": "stream",
     "text": [
      "Gotcha\n"
     ]
    }
   ],
   "source": [
    "if 10 not in (mylist1 or mylist2):\n",
    "    print(\"Element 23 is not in either of the lists.\")\n",
    "else:\n",
    "    print(\"Gotcha\")"
   ]
  },
  {
   "cell_type": "markdown",
   "id": "b2620853",
   "metadata": {},
   "source": [
    "### Identity operators"
   ]
  },
  {
   "cell_type": "raw",
   "id": "6d104f2e",
   "metadata": {},
   "source": [
    "This operator is used to check whether two variable refer to same object. "
   ]
  },
  {
   "cell_type": "code",
   "execution_count": 36,
   "id": "a11aefa9",
   "metadata": {},
   "outputs": [
    {
     "name": "stdout",
     "output_type": "stream",
     "text": [
      "Both List are equal or have same elements\n",
      "Both list are not pointing to the same object\n",
      "Both List are pointing to same object\n",
      "Both list are not pointing to the same object\n",
      "Both List are not pointing to the same object\n"
     ]
    }
   ],
   "source": [
    "list1 = [10]\n",
    "list2 = [10]\n",
    "\n",
    "if list1 == list2 :\n",
    "    print(\"Both List are equal or have same elements\")\n",
    "else : \n",
    "    print(\"Both List are not equal or doesn't have same elements\")\n",
    "    \n",
    "if list1 is list2:\n",
    "    print(\"Both List are pointing to same object\")\n",
    "else :\n",
    "    print(\"Both list are not pointing to the same object\")\n",
    "    \n",
    "list3 = list1\n",
    "\n",
    "if list1 is list3:\n",
    "    print(\"Both List are pointing to same object\")\n",
    "else :\n",
    "    print(\"Both list are not pointing to the same object\")\n",
    "\n",
    "if list2 is list3:\n",
    "    print(\"Both List are pointing to same object\")\n",
    "else :\n",
    "    print(\"Both list are not pointing to the same object\")\n",
    "\n",
    "    \n",
    "if list2 is not list3:\n",
    "    print(\"Both List are not pointing to the same object\")\n",
    "else :\n",
    "    print(\"Both list are pointing to the same object\")\n",
    "    "
   ]
  },
  {
   "cell_type": "markdown",
   "id": "0a1d87a1",
   "metadata": {},
   "source": [
    "### Logical Operators "
   ]
  },
  {
   "cell_type": "markdown",
   "id": "05f5c4ea",
   "metadata": {},
   "source": [
    "SKIPPPPPPPP"
   ]
  },
  {
   "cell_type": "code",
   "execution_count": null,
   "id": "b6e07feb",
   "metadata": {},
   "outputs": [],
   "source": [
    "Tuples"
   ]
  }
 ],
 "metadata": {
  "kernelspec": {
   "display_name": "Python 3 (ipykernel)",
   "language": "python",
   "name": "python3"
  },
  "language_info": {
   "codemirror_mode": {
    "name": "ipython",
    "version": 3
   },
   "file_extension": ".py",
   "mimetype": "text/x-python",
   "name": "python",
   "nbconvert_exporter": "python",
   "pygments_lexer": "ipython3",
   "version": "3.11.4"
  }
 },
 "nbformat": 4,
 "nbformat_minor": 5
}
