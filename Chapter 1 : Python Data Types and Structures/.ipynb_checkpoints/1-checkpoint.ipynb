{
 "cells": [
  {
   "cell_type": "markdown",
   "id": "0214ea99",
   "metadata": {},
   "source": [
    " ## What is a Algorithm?"
   ]
  },
  {
   "cell_type": "raw",
   "id": "f495ed75",
   "metadata": {},
   "source": [
    "An algorithm can be defined as a step by step instructions for a program to follow to solve any given problem; An Algorithm process the input data and gives the output based on the specific problem."
   ]
  },
  {
   "cell_type": "markdown",
   "id": "49e73d06",
   "metadata": {},
   "source": [
    "## What is Data Structure used for?\n"
   ]
  },
  {
   "cell_type": "raw",
   "id": "02c1887d",
   "metadata": {},
   "source": [
    "Data structure deals with how the data is stored and organized in memory of the computer that is going to be used in the program"
   ]
  },
  {
   "cell_type": "markdown",
   "id": "a465b8e7",
   "metadata": {},
   "source": [
    "# Overview of Data Types and Obejcts"
   ]
  },
  {
   "cell_type": "markdown",
   "id": "ae9c6322",
   "metadata": {},
   "source": [
    "An Algorithm can be converted into a computer software using any programming language.\n",
    "\n",
    "The performance efficency of a computer software depends highly upon how the data is stored in the memory of the computer, which is then going to be used in the computer"
   ]
  },
  {
   "cell_type": "raw",
   "id": "a614f2d2",
   "metadata": {},
   "source": [
    "Python is a Dynamically Typed Language which means the data type of a variable is not required while defining a variable. Python automatically recognize the type of variable during the runtime"
   ]
  },
  {
   "cell_type": "raw",
   "id": "0ce60653",
   "metadata": {},
   "source": [
    "There are various type of Data Structures : \n",
    "    1.) Numeric types  : Intergers (int), float, complex\n",
    "    2.) Boolean types  : bool\n",
    "    3.) Sequence types : String(str), range, list, tuple\n",
    "    4.) Mapping types  : Dictionary(dict)\n",
    "    5.) Set types      : set, frozenset"
   ]
  },
  {
   "cell_type": "markdown",
   "id": "415f9e3f",
   "metadata": {},
   "source": [
    "### type()"
   ]
  },
  {
   "cell_type": "code",
   "execution_count": 2,
   "id": "1c60f2bd",
   "metadata": {},
   "outputs": [
    {
     "name": "stdout",
     "output_type": "stream",
     "text": [
      "var1 = <class 'str'>\n",
      "var2 = <class 'int'>\n",
      "var3 = <class 'float'>\n",
      "var4 = <class 'list'>\n",
      "var5 = <class 'set'>\n",
      "\n"
     ]
    }
   ],
   "source": [
    "# We can check the type of the variable using the type() function\n",
    "\n",
    "var1 = \"Hello World\"\n",
    "var2 = 3\n",
    "var3 = 4.5\n",
    "var4 = [1,2]\n",
    "var5 = {1,2,4}\n",
    "print(f\"var1 = {type(var1)}\\nvar2 = {type(var2)}\\nvar3 = {type(var3)}\\nvar4 = {type(var4)}\\nvar5 = {type(var5)}\\n\")"
   ]
  },
  {
   "cell_type": "markdown",
   "id": "845781b5",
   "metadata": {},
   "source": [
    "### Basic Data Types"
   ]
  },
  {
   "cell_type": "raw",
   "id": "5c1909f2",
   "metadata": {},
   "source": [
    "    Numeric :\n",
    "        Interger : Example : 45, 19 , 100, -49, -10 ; Basically with no decimals\n",
    "        Float    : 3.1, 4.3 ; Basically with decimals\n",
    "        Complex  : Represented using two floating-point values. It contains ordered pair such                    as a+ib, where a and b are real value and i is an imiginary value. \n",
    "                   E.g : 3.0 + 1.3j, 4.0j and so on"
   ]
  },
  {
   "cell_type": "code",
   "execution_count": 15,
   "id": "0ed715af",
   "metadata": {},
   "outputs": [
    {
     "name": "stdout",
     "output_type": "stream",
     "text": [
      "int1 = <class 'int'>\tint2 = <class 'int'>\n",
      "float1 = <class 'float'> float2 = <class 'float'>\n",
      "cmplx1 = <class 'complex'> cmplx2 = <class 'complex'> cmplx3 = <class 'complex'>\n"
     ]
    }
   ],
   "source": [
    "int1 = 4; int2 = -4\n",
    "print(f\"int1 = {type(int1)}\\tint2 = {type(int2)}\")\n",
    "float1 = 4.0; float2 = -4.2\n",
    "print(f\"float1 = {type(float1)} float2 = {type(float2)}\")\n",
    "cmplx1 = 3.0 + 1.3j; cmplx2 = -4.2 + 3.1j; cmplx3 = -4.2j\n",
    "print(f\"cmplx1 = {type(cmplx1)} cmplx2 = {type(cmplx2)} cmplx3 = {type(cmplx3)}\")"
   ]
  },
  {
   "cell_type": "raw",
   "id": "c00bc379",
   "metadata": {},
   "source": [
    "Boolean\n",
    "\n",
    "It's either True or False. False is always represented by 0 numerically and True is anything but 0. "
   ]
  },
  {
   "cell_type": "code",
   "execution_count": 16,
   "id": "310448f0",
   "metadata": {},
   "outputs": [
    {
     "name": "stdout",
     "output_type": "stream",
     "text": [
      "False\n",
      "True\n",
      "True\n",
      "True\n",
      "True\n"
     ]
    }
   ],
   "source": [
    "# We can use bool() function to check\n",
    "\n",
    "print(bool(0))\n",
    "print(bool(1))\n",
    "print(bool(4))\n",
    "print(bool(0.3))\n",
    "print(bool(-0.2))"
   ]
  },
  {
   "cell_type": "markdown",
   "id": "3c463179",
   "metadata": {},
   "source": [
    "## Sequences\n",
    "\n",
    "A string is immutable sequence of characters represented in single, double or triple quotes."
   ]
  },
  {
   "cell_type": "code",
   "execution_count": 28,
   "id": "6e4839d7",
   "metadata": {},
   "outputs": [
    {
     "name": "stdout",
     "output_type": "stream",
     "text": [
      "type : <class 'str'>\n",
      "Changed\n",
      "Before : <class 'int'>\t Value : 4\n",
      "After : <class 'float'>\t Value : 4.0\n",
      "Error : could not convert string to float\n"
     ]
    }
   ],
   "source": [
    "# What does immutable mean? \n",
    "# Lets say there is a string str1\n",
    "str1 = \" This is a string which is naturally immutable\"\n",
    "# Lets type of change it's content\n",
    "str1 = \"Changed\"\n",
    "print(f\"type : {type(str1)}\\n{str1}\")\n",
    "\n",
    "# Lets say there is a integer 4, we want to change to float\n",
    "var1 = 4\n",
    "print(f\"Before : {type(var1)}\\t Value : {var1}\")\n",
    "var1 = float(var1)\n",
    "print(f\"After : {type(var1)}\\t Value : {var1}\")\n",
    "\n",
    "\n",
    "# Lets try same thing with an string\n",
    "try : \n",
    "    str1 = float(str1);\n",
    "except :\n",
    "    print (\"Error : could not convert string to float\")\n",
    "    \n",
    "# We get an error. That means it cannot be typecasted"
   ]
  },
  {
   "cell_type": "markdown",
   "id": "7d3c743c",
   "metadata": {},
   "source": [
    "### Add two Strings..\n",
    "### What?????"
   ]
  },
  {
   "cell_type": "code",
   "execution_count": 30,
   "id": "d55b3165",
   "metadata": {},
   "outputs": [
    {
     "name": "stdout",
     "output_type": "stream",
     "text": [
      "Datastructures\n"
     ]
    }
   ],
   "source": [
    "# Only concatenate two strings\n",
    "f = \"Data\"; s = \"structures\"\n",
    "print(f+s)"
   ]
  },
  {
   "cell_type": "markdown",
   "id": "7b27e529",
   "metadata": {},
   "source": [
    "## Multiply ? "
   ]
  },
  {
   "cell_type": "code",
   "execution_count": 33,
   "id": "fb6c889d",
   "metadata": {},
   "outputs": [
    {
     "name": "stdout",
     "output_type": "stream",
     "text": [
      "DataDataDataData\n"
     ]
    }
   ],
   "source": [
    "print(f*4) # Just see what it will do"
   ]
  },
  {
   "cell_type": "markdown",
   "id": "ba9be92b",
   "metadata": {},
   "source": [
    "## Range"
   ]
  },
  {
   "cell_type": "code",
   "execution_count": 36,
   "id": "be198e16",
   "metadata": {},
   "outputs": [
    {
     "name": "stdout",
     "output_type": "stream",
     "text": [
      "range(0, 10, 2)\n",
      "[0, 2, 4, 6, 8]\n"
     ]
    }
   ],
   "source": [
    "# range(start, stop, step)\n",
    "# - start => what is the number to start from. It's inclusive\n",
    "# - end   => where to stop. It's exclusive \n",
    "# - step  => how many steps to jump; deafult is 0.\n",
    "\n",
    "print(range(0,10,2))\n",
    "print(list(range(0,10,2)))"
   ]
  },
  {
   "cell_type": "markdown",
   "id": "c1cce42e",
   "metadata": {},
   "source": [
    "## Lists"
   ]
  },
  {
   "cell_type": "raw",
   "id": "2057a987",
   "metadata": {},
   "source": [
    "Properties Key Points : \n",
    "1. Ordered : They are ordered in a sequence. The order never changes.\n",
    "2. Dynamic : Size of the list can be either increased or decreased by (Adding) or (Deleting) list items \n",
    "3. Abitary Set of Objects : The list can containn elements of any data type\n",
    "4. Accessible via index. : The elements of the list can be accessed via index. P.S : The index starts from 0. :)\n",
    "5. Mutable : Elements can be updated by pin pointing the index of the element we want to change. \n"
   ]
  },
  {
   "cell_type": "code",
   "execution_count": 37,
   "id": "b9771e3a",
   "metadata": {},
   "outputs": [],
   "source": [
    "\n",
    "list1 = [\"name1\", \"name2\", 3,4,5.3,-1]\n"
   ]
  },
  {
   "cell_type": "code",
   "execution_count": 38,
   "id": "5309f8a5",
   "metadata": {},
   "outputs": [
    {
     "name": "stdout",
     "output_type": "stream",
     "text": [
      "<class 'list'>\n"
     ]
    }
   ],
   "source": [
    "print(type(list1))"
   ]
  },
  {
   "cell_type": "code",
   "execution_count": 39,
   "id": "7e53d2cd",
   "metadata": {},
   "outputs": [
    {
     "name": "stdout",
     "output_type": "stream",
     "text": [
      "<class 'list'>\n"
     ]
    }
   ],
   "source": [
    "#it can have same element\n",
    "list1 = [\"name1\", \"name2\", 3,4,5.3,-1, \"name1\"]\n",
    "print(type(list1))"
   ]
  },
  {
   "cell_type": "code",
   "execution_count": 41,
   "id": "809ef274",
   "metadata": {},
   "outputs": [
    {
     "name": "stdout",
     "output_type": "stream",
     "text": [
      "4\n"
     ]
    }
   ],
   "source": [
    "# We can call by Index : \n",
    "print(list1[3])"
   ]
  },
  {
   "cell_type": "code",
   "execution_count": 45,
   "id": "e6a6e4cf",
   "metadata": {},
   "outputs": [
    {
     "name": "stdout",
     "output_type": "stream",
     "text": [
      "True\n",
      "False\n"
     ]
    }
   ],
   "source": [
    "## Ordered Property\n",
    "\n",
    "print([1,2,3] == [1,2,3])\n",
    "print([1,2,3] == [3,1,2])"
   ]
  },
  {
   "cell_type": "raw",
   "id": "0cbdc1a3",
   "metadata": {},
   "source": [
    "Dynamic Property\n",
    "  The list is dynamic that means, it can grow or shrink"
   ]
  },
  {
   "cell_type": "code",
   "execution_count": 3,
   "id": "78d0852d",
   "metadata": {},
   "outputs": [
    {
     "name": "stdout",
     "output_type": "stream",
     "text": [
      "['Aalok', 43.2, 'ea', 4]\n"
     ]
    }
   ],
   "source": [
    "b = [\"Aalok\", 43.2, \"ea\", 4]\n",
    "print(b)"
   ]
  },
  {
   "cell_type": "code",
   "execution_count": 4,
   "id": "79bfcccd",
   "metadata": {},
   "outputs": [
    {
     "name": "stdout",
     "output_type": "stream",
     "text": [
      "['Aalok', 43.2, 'ea', 4, 'New String']\n"
     ]
    }
   ],
   "source": [
    "b = b+['New String']\n",
    "print(b)"
   ]
  },
  {
   "cell_type": "raw",
   "id": "4d5b3b6f",
   "metadata": {},
   "source": [
    "We can only add via concatenatation, i.e append another list. "
   ]
  },
  {
   "cell_type": "code",
   "execution_count": 5,
   "id": "4e4a13f0",
   "metadata": {},
   "outputs": [
    {
     "name": "stdout",
     "output_type": "stream",
     "text": [
      "['Aalok', 43.2, 'ea', 4, 'New String', 'New String']\n",
      "6\n"
     ]
    }
   ],
   "source": [
    "b = b+['New String']\n",
    "print(b)\n",
    "print(len(b)) # len() to get the size of the list. "
   ]
  },
  {
   "cell_type": "code",
   "execution_count": 9,
   "id": "f346af70",
   "metadata": {},
   "outputs": [
    {
     "name": "stdout",
     "output_type": "stream",
     "text": [
      "['Aalok', 43.2, 'ea', 4, 'New String', 'New String']\n",
      "6\n"
     ]
    }
   ],
   "source": [
    "# We can even delete and item from the list via the index. \n",
    "del b[4]\n",
    "print(b)\n",
    "print(len(b))"
   ]
  },
  {
   "cell_type": "code",
   "execution_count": 5,
   "id": "f748d22b",
   "metadata": {},
   "outputs": [
    {
     "name": "stdout",
     "output_type": "stream",
     "text": [
      "435\n"
     ]
    }
   ],
   "source": [
    "## Accessible via Index\n",
    "list1 = [32,44,435,213,5,2]\n",
    "print(list1[2])"
   ]
  },
  {
   "cell_type": "code",
   "execution_count": 16,
   "id": "e4f572ea",
   "metadata": {},
   "outputs": [
    {
     "name": "stdout",
     "output_type": "stream",
     "text": [
      "23\n",
      "33223\n",
      "[2, 4, 'changed', 44, 'iurfe', '438dsdv']\n",
      "['changed', 44, 'iurfe', '438dsdv']\n",
      "['c', 'h', 'a', 'n', 'g', 'e', 'd', '438dsdv']\n"
     ]
    }
   ],
   "source": [
    "## Changing a item in lits\n",
    "list1 = [\"a\", 'b', 23, 44, 'iurfe', '438dsdv']\n",
    "print(list1[2])\n",
    "list1[2] = 33223\n",
    "print(list1[2])\n",
    "list1[0:3] = [2, 4, 'changed']\n",
    "print(list1)\n",
    "list1[0:3] = ['changed']\n",
    "print(list1)\n",
    "list1[0:3] = 'changed'\n",
    "print(list1)"
   ]
  },
  {
   "cell_type": "markdown",
   "id": "52723516",
   "metadata": {},
   "source": [
    "### Membership, identity and logical operations"
   ]
  },
  {
   "cell_type": "raw",
   "id": "b14c03c2",
   "metadata": {},
   "source": [
    "These operators are used to check the membership of an item, i.e if an item is stored in or is contained in a sequence variable [ex : string, list or tuple]\n"
   ]
  },
  {
   "cell_type": "code",
   "execution_count": 17,
   "id": "a84a84c0",
   "metadata": {},
   "outputs": [],
   "source": [
    "string1 = \"ThisIsAString\""
   ]
  },
  {
   "cell_type": "code",
   "execution_count": 19,
   "id": "a543f25d",
   "metadata": {},
   "outputs": [
    {
     "name": "stdout",
     "output_type": "stream",
     "text": [
      "s\n"
     ]
    },
    {
     "data": {
      "text/plain": [
       "13"
      ]
     },
     "execution_count": 19,
     "metadata": {},
     "output_type": "execute_result"
    }
   ],
   "source": [
    "print(string1[3]) # Since string is a a sequence variable you can look something in it via index. \n",
    "len(string1)"
   ]
  },
  {
   "cell_type": "raw",
   "id": "edf4e553",
   "metadata": {},
   "source": [
    "There are two types of membership operators\n",
    "1.) in\n",
    "2.) not in"
   ]
  },
  {
   "cell_type": "code",
   "execution_count": 24,
   "id": "c9f57bbc",
   "metadata": {},
   "outputs": [],
   "source": [
    "mylist1 = [100, 20, 30, 10]\n",
    "mylist2 = [10, 400, 38, 90]"
   ]
  },
  {
   "cell_type": "markdown",
   "id": "f04665a1",
   "metadata": {},
   "source": [
    "#### in"
   ]
  },
  {
   "cell_type": "code",
   "execution_count": 25,
   "id": "d0c67257",
   "metadata": {},
   "outputs": [
    {
     "name": "stdout",
     "output_type": "stream",
     "text": [
      "element mylist2[0] = 10 is overlapping with mylist1\n"
     ]
    }
   ],
   "source": [
    "if mylist2[0] in mylist1:\n",
    "    print(f\"element mylist2[0] = {mylist2[0]} is overlapping with mylist1\")"
   ]
  },
  {
   "cell_type": "code",
   "execution_count": 26,
   "id": "17038658",
   "metadata": {},
   "outputs": [
    {
     "name": "stdout",
     "output_type": "stream",
     "text": [
      "10 is overlapping with mylist1\n"
     ]
    }
   ],
   "source": [
    "if 10 in mylist1:\n",
    "    print(f\"10 is overlapping with mylist1\")\n",
    "else:\n",
    "    print(\"the element is not in mylist1\")"
   ]
  },
  {
   "cell_type": "code",
   "execution_count": 27,
   "id": "cb5434ed",
   "metadata": {},
   "outputs": [
    {
     "name": "stdout",
     "output_type": "stream",
     "text": [
      "the element is not in mylist1\n"
     ]
    }
   ],
   "source": [
    "if 13 in mylist1:\n",
    "    print(f\"10 is overlapping with mylist1\")\n",
    "else:\n",
    "    print(\"the element is not in mylist1\")"
   ]
  },
  {
   "cell_type": "markdown",
   "id": "a81ac69f",
   "metadata": {},
   "source": [
    "#### not in"
   ]
  },
  {
   "cell_type": "code",
   "execution_count": 29,
   "id": "7e37771f",
   "metadata": {},
   "outputs": [
    {
     "name": "stdout",
     "output_type": "stream",
     "text": [
      "Element 23 is not in either of the lists.\n"
     ]
    }
   ],
   "source": [
    "if '23' not in mylist1 or mylist2:\n",
    "    print(\"Element 23 is not in either of the lists.\")\n",
    "else:\n",
    "    print(\"Gotcha\")"
   ]
  },
  {
   "cell_type": "code",
   "execution_count": 31,
   "id": "8cb04954",
   "metadata": {},
   "outputs": [
    {
     "name": "stdout",
     "output_type": "stream",
     "text": [
      "Gotcha\n"
     ]
    }
   ],
   "source": [
    "if 10 not in (mylist1 or mylist2):\n",
    "    print(\"Element 23 is not in either of the lists.\")\n",
    "else:\n",
    "    print(\"Gotcha\")"
   ]
  },
  {
   "cell_type": "markdown",
   "id": "b2620853",
   "metadata": {},
   "source": [
    "### Identity operators"
   ]
  },
  {
   "cell_type": "raw",
   "id": "6d104f2e",
   "metadata": {},
   "source": [
    "This operator is used to check whether two variable refer to same object. "
   ]
  },
  {
   "cell_type": "code",
   "execution_count": 36,
   "id": "a11aefa9",
   "metadata": {
    "scrolled": true
   },
   "outputs": [
    {
     "name": "stdout",
     "output_type": "stream",
     "text": [
      "Both List are equal or have same elements\n",
      "Both list are not pointing to the same object\n",
      "Both List are pointing to same object\n",
      "Both list are not pointing to the same object\n",
      "Both List are not pointing to the same object\n"
     ]
    }
   ],
   "source": [
    "list1 = [10]\n",
    "list2 = [10]\n",
    "\n",
    "if list1 == list2 :\n",
    "    print(\"Both List are equal or have same elements\")\n",
    "else : \n",
    "    print(\"Both List are not equal or doesn't have same elements\")\n",
    "    \n",
    "if list1 is list2:\n",
    "    print(\"Both List are pointing to same object\")\n",
    "else :\n",
    "    print(\"Both list are not pointing to the same object\")\n",
    "    \n",
    "list3 = list1\n",
    "\n",
    "if list1 is list3:\n",
    "    print(\"Both List are pointing to same object\")\n",
    "else :\n",
    "    print(\"Both list are not pointing to the same object\")\n",
    "\n",
    "if list2 is list3:\n",
    "    print(\"Both List are pointing to same object\")\n",
    "else :\n",
    "    print(\"Both list are not pointing to the same object\")\n",
    "\n",
    "    \n",
    "if list2 is not list3:\n",
    "    print(\"Both List are not pointing to the same object\")\n",
    "else :\n",
    "    print(\"Both list are pointing to the same object\")\n",
    "    "
   ]
  },
  {
   "cell_type": "markdown",
   "id": "0a1d87a1",
   "metadata": {},
   "source": [
    "### Logical Operators "
   ]
  },
  {
   "cell_type": "markdown",
   "id": "05f5c4ea",
   "metadata": {},
   "source": [
    "SKIPPPPPPPP"
   ]
  },
  {
   "cell_type": "markdown",
   "id": "b7ef18bb",
   "metadata": {},
   "source": [
    "# Tuples\n"
   ]
  },
  {
   "cell_type": "raw",
   "id": "fb72b7f1",
   "metadata": {},
   "source": [
    "It is similar to list\n",
    "1. ) 0 indexed\n",
    "2. ) Read only - cannot be modified/changed\n",
    "\n",
    "We should only use this if we wish to not change this further and want to keep it fixed.\n",
    "\n",
    "Duplicates are allowed and can be of different types similar to lists\n"
   ]
  },
  {
   "cell_type": "code",
   "execution_count": 10,
   "id": "5b9a4109",
   "metadata": {},
   "outputs": [],
   "source": [
    "tuples_name = (\"entry1\", \"entry2\", \"entry3\", 30, False)"
   ]
  },
  {
   "cell_type": "code",
   "execution_count": 7,
   "id": "c1b90ffe",
   "metadata": {},
   "outputs": [
    {
     "data": {
      "text/plain": [
       "tuple"
      ]
     },
     "execution_count": 7,
     "metadata": {},
     "output_type": "execute_result"
    }
   ],
   "source": [
    "type(tuples_name)"
   ]
  },
  {
   "cell_type": "code",
   "execution_count": 13,
   "id": "c4759abe",
   "metadata": {},
   "outputs": [],
   "source": [
    "tuples2 = ((\"Aalok\"), (\"European\"), (\"Mongolian\"))"
   ]
  },
  {
   "cell_type": "code",
   "execution_count": 17,
   "id": "fca22603",
   "metadata": {},
   "outputs": [
    {
     "name": "stdout",
     "output_type": "stream",
     "text": [
      "('Aalok', 'European', 'Mongolian')\n",
      "<class 'tuple'> \n",
      " None \n"
     ]
    }
   ],
   "source": [
    "print(f\"{type(tuples2)} \\n {print(tuples2)} \")"
   ]
  },
  {
   "cell_type": "markdown",
   "id": "1e75daf5",
   "metadata": {},
   "source": [
    "## Using operators"
   ]
  },
  {
   "cell_type": "code",
   "execution_count": 19,
   "id": "22bcf3d5",
   "metadata": {},
   "outputs": [],
   "source": [
    "tupl1 = (1,2,3,\"hello\")"
   ]
  },
  {
   "cell_type": "code",
   "execution_count": 20,
   "id": "d64eb0d3",
   "metadata": {},
   "outputs": [
    {
     "name": "stdout",
     "output_type": "stream",
     "text": [
      "<class 'tuple'>\n"
     ]
    }
   ],
   "source": [
    "print(type(tupl1))"
   ]
  },
  {
   "cell_type": "code",
   "execution_count": 23,
   "id": "c93c81f1",
   "metadata": {},
   "outputs": [],
   "source": [
    "tupl2 = tupl1*2+(50,60)"
   ]
  },
  {
   "cell_type": "code",
   "execution_count": 24,
   "id": "57fd07f5",
   "metadata": {},
   "outputs": [
    {
     "name": "stdout",
     "output_type": "stream",
     "text": [
      "(1, 2, 3, 'hello', 1, 2, 3, 'hello', 50, 60)\n"
     ]
    }
   ],
   "source": [
    "print(tupl2)"
   ]
  },
  {
   "cell_type": "code",
   "execution_count": 25,
   "id": "1ecb19e6",
   "metadata": {},
   "outputs": [
    {
     "name": "stdout",
     "output_type": "stream",
     "text": [
      "Yeah, it's there\n"
     ]
    }
   ],
   "source": [
    "if \"hello\" in tupl2:\n",
    "    print(\"Yeah, it's there\")\n",
    "else :\n",
    "    print(\"It's not there\")"
   ]
  },
  {
   "cell_type": "code",
   "execution_count": 26,
   "id": "c769d92e",
   "metadata": {},
   "outputs": [
    {
     "name": "stdout",
     "output_type": "stream",
     "text": [
      "1\n",
      "2\n",
      "3\n",
      "hello\n",
      "1\n",
      "2\n",
      "3\n",
      "hello\n",
      "50\n",
      "60\n"
     ]
    }
   ],
   "source": [
    "for i in tupl2:\n",
    "    print(i)"
   ]
  },
  {
   "cell_type": "markdown",
   "id": "94844b7a",
   "metadata": {},
   "source": [
    "## Slicing"
   ]
  },
  {
   "cell_type": "code",
   "execution_count": 28,
   "id": "10f09367",
   "metadata": {},
   "outputs": [
    {
     "name": "stdout",
     "output_type": "stream",
     "text": [
      "(1, 2, 3, 'hello')\n"
     ]
    }
   ],
   "source": [
    "print(tupl2[:4])"
   ]
  },
  {
   "cell_type": "code",
   "execution_count": 29,
   "id": "e5c639b5",
   "metadata": {},
   "outputs": [
    {
     "name": "stdout",
     "output_type": "stream",
     "text": [
      "50\n"
     ]
    }
   ],
   "source": [
    "print(tupl2[-2])"
   ]
  },
  {
   "cell_type": "markdown",
   "id": "9fbc990f",
   "metadata": {},
   "source": [
    "# Dictionaries"
   ]
  },
  {
   "cell_type": "raw",
   "id": "9849c946",
   "metadata": {},
   "source": [
    "It stores data in unordered pairs (key-values). A key must be hashable and immutable data types. It's like an vector array in Java\n"
   ]
  },
  {
   "cell_type": "code",
   "execution_count": 31,
   "id": "00b5dc89",
   "metadata": {},
   "outputs": [],
   "source": [
    "my_dict = {\n",
    "    # KEY : PAIR\n",
    "    1 : \"Hello\",\n",
    "    2 : \"World\"\n",
    "}"
   ]
  },
  {
   "cell_type": "code",
   "execution_count": 33,
   "id": "2497e7ed",
   "metadata": {},
   "outputs": [
    {
     "name": "stdout",
     "output_type": "stream",
     "text": [
      "Hello\n"
     ]
    }
   ],
   "source": [
    "print(my_dict[1]) # Always call by key"
   ]
  },
  {
   "cell_type": "code",
   "execution_count": 34,
   "id": "d90321ee",
   "metadata": {},
   "outputs": [
    {
     "name": "stdout",
     "output_type": "stream",
     "text": [
      "{1: 'Hello', 2: 'World'}\n"
     ]
    }
   ],
   "source": [
    "print(my_dict)"
   ]
  },
  {
   "cell_type": "code",
   "execution_count": 35,
   "id": "56f47ccf",
   "metadata": {},
   "outputs": [],
   "source": [
    "my_dict2 = {\n",
    "    \"1\" : 3020,\n",
    "    \"2\" : 3022,\n",
    "    \"Hello\" : \"Amigo\"\n",
    "}"
   ]
  },
  {
   "cell_type": "code",
   "execution_count": 36,
   "id": "8a292f24",
   "metadata": {},
   "outputs": [
    {
     "name": "stdout",
     "output_type": "stream",
     "text": [
      "3020\n"
     ]
    }
   ],
   "source": [
    "print(my_dict2[\"1\"])"
   ]
  },
  {
   "cell_type": "code",
   "execution_count": 40,
   "id": "9b67fd04",
   "metadata": {},
   "outputs": [
    {
     "name": "stdout",
     "output_type": "stream",
     "text": [
      "{} / <class 'dict'>\n",
      "-----\n",
      "\n",
      "{'key1': 'Hello', 'key2': 'World', 'key3': 329}\n"
     ]
    }
   ],
   "source": [
    "# Creating an empty dictionary and then adding onto it\n",
    "dict = {}\n",
    "print(f\"{dict} / {type(dict)}\\n-----\\n\")\n",
    "dict[\"key1\"] = \"Hello\"\n",
    "dict[\"key2\"] = \"World\"\n",
    "dict[\"key3\"] = 329\n",
    "print(dict)"
   ]
  },
  {
   "cell_type": "code",
   "execution_count": 41,
   "id": "ac7fb6f7",
   "metadata": {},
   "outputs": [
    {
     "name": "stdout",
     "output_type": "stream",
     "text": [
      "False\n",
      "True\n"
     ]
    }
   ],
   "source": [
    "# We can only check key and then see values from that key\n",
    "print(\"hello\" in dict)\n",
    "print(\"key1\" in dict)"
   ]
  },
  {
   "cell_type": "code",
   "execution_count": 43,
   "id": "58051c71",
   "metadata": {},
   "outputs": [
    {
     "name": "stdout",
     "output_type": "stream",
     "text": [
      "Hello\n",
      "Hello\n"
     ]
    }
   ],
   "source": [
    "# We can get values from 2 way\n",
    "print(dict[\"key1\"])\n",
    "print(dict.get(\"key1\"))"
   ]
  },
  {
   "cell_type": "code",
   "execution_count": 44,
   "id": "d7b6f551",
   "metadata": {},
   "outputs": [
    {
     "name": "stdout",
     "output_type": "stream",
     "text": [
      "dict_items([('key1', 'Hello'), ('key2', 'World'), ('key3', 329)])\n"
     ]
    }
   ],
   "source": [
    "print(dict.items())"
   ]
  },
  {
   "cell_type": "code",
   "execution_count": 45,
   "id": "58620f86",
   "metadata": {},
   "outputs": [
    {
     "name": "stdout",
     "output_type": "stream",
     "text": [
      "dict_keys(['key1', 'key2', 'key3'])\n"
     ]
    }
   ],
   "source": [
    "#Printing the keys\n",
    "print(dict.keys())"
   ]
  },
  {
   "cell_type": "code",
   "execution_count": 46,
   "id": "82e0838d",
   "metadata": {},
   "outputs": [
    {
     "name": "stdout",
     "output_type": "stream",
     "text": [
      "dict_values(['Hello', 'World', 329])\n"
     ]
    }
   ],
   "source": [
    "#Printing the values\n",
    "print(dict.values())"
   ]
  },
  {
   "cell_type": "code",
   "execution_count": 49,
   "id": "a1f2a965",
   "metadata": {},
   "outputs": [
    {
     "data": {
      "text/plain": [
       "'World'"
      ]
     },
     "execution_count": 49,
     "metadata": {},
     "output_type": "execute_result"
    }
   ],
   "source": [
    "dict.pop(\"key2\") # Pops with a specific key"
   ]
  },
  {
   "cell_type": "code",
   "execution_count": 50,
   "id": "c9ff1df5",
   "metadata": {},
   "outputs": [
    {
     "name": "stdout",
     "output_type": "stream",
     "text": [
      "{'key1': 'Hello', 'key3': 329}\n"
     ]
    }
   ],
   "source": [
    "print(dict) "
   ]
  },
  {
   "cell_type": "code",
   "execution_count": 51,
   "id": "1f1cf925",
   "metadata": {},
   "outputs": [
    {
     "data": {
      "text/plain": [
       "('key3', 329)"
      ]
     },
     "execution_count": 51,
     "metadata": {},
     "output_type": "execute_result"
    }
   ],
   "source": [
    "dict.popitem() # pops the last item"
   ]
  },
  {
   "cell_type": "code",
   "execution_count": 52,
   "id": "3c4a5032",
   "metadata": {},
   "outputs": [
    {
     "name": "stdout",
     "output_type": "stream",
     "text": [
      "{'key1': 'Hello'}\n"
     ]
    }
   ],
   "source": [
    "print(dict)"
   ]
  },
  {
   "cell_type": "code",
   "execution_count": 54,
   "id": "018180e3",
   "metadata": {},
   "outputs": [
    {
     "name": "stdout",
     "output_type": "stream",
     "text": [
      "{'key1': 'Hello', 'Aalok': 29}\n"
     ]
    }
   ],
   "source": [
    "# Concatenate \n",
    "dict1 = {'Aalok' : 29}\n",
    "dict.update(dict1)\n",
    "print(dict)"
   ]
  },
  {
   "cell_type": "markdown",
   "id": "bfa2e2ae",
   "metadata": {},
   "source": [
    "# SETS"
   ]
  },
  {
   "cell_type": "raw",
   "id": "f472f837",
   "metadata": {},
   "source": [
    "A set is an unordered collection of hashable objects\n",
    "1.) Iterable, mutable, unique elements"
   ]
  },
  {
   "cell_type": "markdown",
   "id": "08fef83c",
   "metadata": {},
   "source": [
    "() - sets\n",
    "{} - dictionary\n",
    "[] - list"
   ]
  },
  {
   "cell_type": "raw",
   "id": "34e0b0d6",
   "metadata": {},
   "source": [
    "Python has a built-in data type called set. It is a collection of unordered data values. Due to the unordered dataset, the user is not sure of the order in which data values appear. An unordered dataset leads to unindexed values. Set values cannot be accessed using index numbers as we did in the list. Set values are immutable which means we cannot alter the values after their creation. Data inside the set can be of any type say, integer, string, or float value. The set uses comma-separated values within curly brackets {} to store data. Sets can be defined using any variable name and then assigning different values to the set in the curly bracket. The set is unordered, unchangeable, and does not allows duplicate values."
   ]
  },
  {
   "cell_type": "code",
   "execution_count": 56,
   "id": "8a0a3937",
   "metadata": {},
   "outputs": [
    {
     "data": {
      "text/plain": [
       "set"
      ]
     },
     "execution_count": 56,
     "metadata": {},
     "output_type": "execute_result"
    }
   ],
   "source": [
    "x1 = {'and', 12, \"china\"}\n",
    "type(x1)"
   ]
  },
  {
   "cell_type": "code",
   "execution_count": 57,
   "id": "c4cdd61b",
   "metadata": {},
   "outputs": [
    {
     "data": {
      "text/plain": [
       "dict"
      ]
     },
     "execution_count": 57,
     "metadata": {},
     "output_type": "execute_result"
    }
   ],
   "source": [
    "x2 = {\"A\":100, \"B\":200}\n",
    "type(x2)"
   ]
  },
  {
   "cell_type": "code",
   "execution_count": null,
   "id": "5172a4c6",
   "metadata": {},
   "outputs": [],
   "source": [
    "SEE THE DIFFERENCE"
   ]
  },
  {
   "cell_type": "code",
   "execution_count": 59,
   "id": "19b8ba0a",
   "metadata": {},
   "outputs": [
    {
     "data": {
      "text/plain": [
       "set"
      ]
     },
     "execution_count": 59,
     "metadata": {},
     "output_type": "execute_result"
    }
   ],
   "source": [
    "x3 = set(['and', 12, \"china\"])\n",
    "type(x3)"
   ]
  },
  {
   "cell_type": "code",
   "execution_count": 62,
   "id": "f5207638",
   "metadata": {},
   "outputs": [
    {
     "name": "stdout",
     "output_type": "stream",
     "text": [
      "{'banana', 'cherry', 'apple'}\n",
      "{'banana', 'lemon', 'apple', 'cherry'}\n"
     ]
    }
   ],
   "source": [
    "# Adding with sets\n",
    "set1 = {\"apple\",\"banana\", \"cherry\"}\n",
    "print(set1)\n",
    "set2 = {\"lemon\", \"banana\"}\n",
    "set1.update(set2)\n",
    "print(set1)\n",
    "\n",
    "# duplicates are not allowed"
   ]
  },
  {
   "cell_type": "code",
   "execution_count": 63,
   "id": "8f620c1a",
   "metadata": {},
   "outputs": [
    {
     "ename": "KeyError",
     "evalue": "'guava'",
     "output_type": "error",
     "traceback": [
      "\u001b[0;31m---------------------------------------------------------------------------\u001b[0m",
      "\u001b[0;31mKeyError\u001b[0m                                  Traceback (most recent call last)",
      "Cell \u001b[0;32mIn[63], line 2\u001b[0m\n\u001b[1;32m      1\u001b[0m \u001b[38;5;66;03m# remove vs discard\u001b[39;00m\n\u001b[0;32m----> 2\u001b[0m set1\u001b[38;5;241m.\u001b[39mremove(\u001b[38;5;124m\"\u001b[39m\u001b[38;5;124mguava\u001b[39m\u001b[38;5;124m\"\u001b[39m)\n",
      "\u001b[0;31mKeyError\u001b[0m: 'guava'"
     ]
    }
   ],
   "source": [
    "# remove vs discard\n",
    "set1.remove(\"guava\")"
   ]
  },
  {
   "cell_type": "code",
   "execution_count": 64,
   "id": "efdd5a90",
   "metadata": {},
   "outputs": [],
   "source": [
    "set1.discard(\"guava\") # discard will not raise an error if something doesn't exist"
   ]
  },
  {
   "cell_type": "code",
   "execution_count": 69,
   "id": "83ff077a",
   "metadata": {},
   "outputs": [
    {
     "name": "stdout",
     "output_type": "stream",
     "text": [
      "banana\n",
      "{'cherry', 'apple'}\n",
      "set()\n"
     ]
    }
   ],
   "source": [
    "thisset = {\"apple\", \"banana\", \"cherry\"}\n",
    "\n",
    "x = thisset.pop() # removes an random item\n",
    "\n",
    "print(x)\n",
    "\n",
    "print(thisset)\n",
    "\n",
    "thisset.clear() # Cleares out the whole set\n",
    "print(thisset)"
   ]
  },
  {
   "cell_type": "code",
   "execution_count": 70,
   "id": "cede0a8b",
   "metadata": {},
   "outputs": [
    {
     "ename": "NameError",
     "evalue": "name 'thisset' is not defined",
     "output_type": "error",
     "traceback": [
      "\u001b[0;31m---------------------------------------------------------------------------\u001b[0m",
      "\u001b[0;31mNameError\u001b[0m                                 Traceback (most recent call last)",
      "Cell \u001b[0;32mIn[70], line 5\u001b[0m\n\u001b[1;32m      1\u001b[0m thisset \u001b[38;5;241m=\u001b[39m {\u001b[38;5;124m\"\u001b[39m\u001b[38;5;124mapple\u001b[39m\u001b[38;5;124m\"\u001b[39m, \u001b[38;5;124m\"\u001b[39m\u001b[38;5;124mbanana\u001b[39m\u001b[38;5;124m\"\u001b[39m, \u001b[38;5;124m\"\u001b[39m\u001b[38;5;124mcherry\u001b[39m\u001b[38;5;124m\"\u001b[39m}\n\u001b[1;32m      3\u001b[0m \u001b[38;5;28;01mdel\u001b[39;00m thisset\n\u001b[0;32m----> 5\u001b[0m \u001b[38;5;28mprint\u001b[39m(thisset)\n",
      "\u001b[0;31mNameError\u001b[0m: name 'thisset' is not defined"
     ]
    }
   ],
   "source": [
    "# Deleting the whole set\n",
    "thisset = {\"apple\", \"banana\", \"cherry\"}\n",
    "\n",
    "del thisset\n",
    "\n",
    "print(thisset)"
   ]
  },
  {
   "cell_type": "markdown",
   "id": "af77e776",
   "metadata": {},
   "source": [
    "## Keeping the duplicates in the set"
   ]
  },
  {
   "cell_type": "code",
   "execution_count": 71,
   "id": "f8df39ad",
   "metadata": {},
   "outputs": [
    {
     "name": "stdout",
     "output_type": "stream",
     "text": [
      "{'apple'}\n"
     ]
    }
   ],
   "source": [
    "x = {\"apple\", \"banana\", \"cherry\"}\n",
    "y = {\"google\", \"microsoft\", \"apple\"}\n",
    "\n",
    "x.intersection_update(y)\n",
    "\n",
    "print(x)"
   ]
  },
  {
   "cell_type": "code",
   "execution_count": 73,
   "id": "0e6976cf",
   "metadata": {},
   "outputs": [
    {
     "name": "stdout",
     "output_type": "stream",
     "text": [
      "{'apple'}\n"
     ]
    }
   ],
   "source": [
    "x = {\"apple\", \"banana\", \"cherry\"}\n",
    "y = {\"google\", \"microsoft\", \"apple\"}\n",
    "z = x.intersection(y)\n",
    "print(z)"
   ]
  },
  {
   "cell_type": "markdown",
   "id": "3accffac",
   "metadata": {},
   "source": [
    "## Keeping everything except the duplicates"
   ]
  },
  {
   "cell_type": "code",
   "execution_count": 74,
   "id": "4fc1b3af",
   "metadata": {},
   "outputs": [
    {
     "name": "stdout",
     "output_type": "stream",
     "text": [
      "{'cherry', 'banana', 'google', 'microsoft'}\n"
     ]
    }
   ],
   "source": [
    "x = {\"apple\", \"banana\", \"cherry\"}\n",
    "y = {\"google\", \"microsoft\", \"apple\"}\n",
    "x.symmetric_difference_update(y)\n",
    "print(x)"
   ]
  },
  {
   "cell_type": "code",
   "execution_count": 75,
   "id": "55a84b57",
   "metadata": {},
   "outputs": [
    {
     "name": "stdout",
     "output_type": "stream",
     "text": [
      "{'banana', 'cherry', 'apple'}\n"
     ]
    }
   ],
   "source": [
    "x = {\"apple\", \"banana\", \"cherry\"}\n",
    "y = {\"google\", \"microsoft\", \"apple\"}\n",
    "z = x.symmetric_difference(y)\n",
    "print(x)"
   ]
  },
  {
   "cell_type": "markdown",
   "id": "5ca712b0",
   "metadata": {},
   "source": [
    "### True and False or it's values in numeric form means the same in a set"
   ]
  },
  {
   "cell_type": "code",
   "execution_count": 77,
   "id": "759e3102",
   "metadata": {},
   "outputs": [
    {
     "name": "stdout",
     "output_type": "stream",
     "text": [
      "{0, 1, 'Hello'}\n",
      "{False, True, 'World'}\n"
     ]
    }
   ],
   "source": [
    "x = set((0,1,\"Hello\"))\n",
    "y = {False, True, \"World\"}\n",
    "print(x)\n",
    "print(y)"
   ]
  },
  {
   "cell_type": "code",
   "execution_count": 81,
   "id": "f09c130c",
   "metadata": {},
   "outputs": [
    {
     "ename": "TypeError",
     "evalue": "'set' object is not subscriptable",
     "output_type": "error",
     "traceback": [
      "\u001b[0;31m---------------------------------------------------------------------------\u001b[0m",
      "\u001b[0;31mTypeError\u001b[0m                                 Traceback (most recent call last)",
      "Cell \u001b[0;32mIn[81], line 4\u001b[0m\n\u001b[1;32m      1\u001b[0m \u001b[38;5;66;03m### WILL NOT WORK ####\u001b[39;00m\n\u001b[1;32m      3\u001b[0m \u001b[38;5;28;01mfor\u001b[39;00m i \u001b[38;5;129;01min\u001b[39;00m \u001b[38;5;28mrange\u001b[39m(\u001b[38;5;241m3\u001b[39m):\n\u001b[0;32m----> 4\u001b[0m     \u001b[38;5;28;01mif\u001b[39;00m x[i] \u001b[38;5;241m==\u001b[39m y[i]:\n\u001b[1;32m      5\u001b[0m         \u001b[38;5;28mprint\u001b[39m(\u001b[38;5;124m\"\u001b[39m\u001b[38;5;124mEqual\u001b[39m\u001b[38;5;124m\"\u001b[39m)\n\u001b[1;32m      6\u001b[0m     \u001b[38;5;28;01melse\u001b[39;00m:\n",
      "\u001b[0;31mTypeError\u001b[0m: 'set' object is not subscriptable"
     ]
    }
   ],
   "source": [
    "### WILL NOT WORK ####\n",
    "\n",
    "# Because sets are not ordered, so it will not work with indexes\n",
    "\n",
    "for i in range(3):\n",
    "    if x[i] == y[i]:\n",
    "        print(\"Equal\")\n",
    "    else:\n",
    "        print(f\"{x[i]} is not equal to {y[i]}\")"
   ]
  },
  {
   "cell_type": "code",
   "execution_count": 82,
   "id": "c35c45a3",
   "metadata": {},
   "outputs": [
    {
     "name": "stdout",
     "output_type": "stream",
     "text": [
      "Equal\n",
      "Equal\n",
      "Hello is not equal to any element in y\n"
     ]
    }
   ],
   "source": [
    "for element in x:\n",
    "    if element in y:\n",
    "        print(\"Equal\")\n",
    "    else:\n",
    "        print(f\"{element} is not equal to any element in y\")"
   ]
  },
  {
   "cell_type": "code",
   "execution_count": 83,
   "id": "eaacaa64",
   "metadata": {},
   "outputs": [
    {
     "name": "stdout",
     "output_type": "stream",
     "text": [
      "Equal\n",
      "Equal\n",
      "Hello is not equal to World\n"
     ]
    }
   ],
   "source": [
    "for a, b in zip(x, y): #zip function in Python is used to combine elements from two or more iterables into tuples\n",
    "    if a == b:\n",
    "        print(\"Equal\")\n",
    "    else:\n",
    "        print(f\"{a} is not equal to {b}\")"
   ]
  },
  {
   "cell_type": "markdown",
   "id": "6ad0617e",
   "metadata": {},
   "source": [
    "## SETS\n",
    "    add()\tAdds an element to the set\n",
    "    clear()\tRemoves all the elements from the set\n",
    "    copy()\tReturns a copy of the set\n",
    "    difference()\tReturns a set containing the difference between two or more sets\n",
    "    difference_update()\tRemoves the items in this set that are also included in another, specified set\n",
    "    discard()\tRemove the specified item\n",
    "    intersection()\tReturns a set, that is the intersection of two other sets\n",
    "    intersection_update()\tRemoves the items in this set that are not present in other, specified set(s)\n",
    "    isdisjoint()\tReturns whether two sets have a intersection or not\n",
    "    issubset()\tReturns whether another set contains this set or not\n",
    "    issuperset()\tReturns whether this set contains another set or not\n",
    "    pop()\tRemoves an element from the set\n",
    "    remove()\tRemoves the specified element\n",
    "    symmetric_difference()\tReturns a set with the symmetric differences of two sets\n",
    "    symmetric_difference_update()\tinserts the symmetric differences from this set and another\n",
    "    union()\tReturn a set containing the union of sets\n",
    "    update()"
   ]
  },
  {
   "cell_type": "markdown",
   "id": "c0dffaff",
   "metadata": {},
   "source": [
    "## Mutable vs Immutable"
   ]
  },
  {
   "cell_type": "raw",
   "id": "00f8bcc1",
   "metadata": {},
   "source": [
    "\n",
    "my_str = \"hello\" # my_str refers to an immutable string\n",
    "my_str = \"world\" # my_str can be reassigned to refer to another string\n",
    "\n",
    "my_list = [1, 2, 3] # my_list refers to a mutable list\n",
    "my_list.append(4) # we can mutate the contents of the list \n",
    "my_list = [5, 6] # my_list can be reassigned to refer to another list"
   ]
  },
  {
   "cell_type": "raw",
   "id": "79a80e5e",
   "metadata": {},
   "source": [
    "So an immutable object means:\n",
    "\n",
    "The state/contents of the object cannot be changed once created\n",
    "But the variable referring to the object can be reassigned\n",
    "Whereas a mutable object means:\n",
    "\n",
    "The state/contents of the object can be changed after creation\n",
    "And similarly, the variable referring to the mutable object can be reassigned"
   ]
  },
  {
   "cell_type": "code",
   "execution_count": null,
   "id": "eeda5b41",
   "metadata": {},
   "outputs": [],
   "source": [
    "# Immutable Objects\n",
    "\n",
    "s = \"Hello\" # String object \n",
    "print(s) # Hello\n",
    "\n",
    "s[0] = \"M\" # Error! Cannot modify string \n",
    "\n",
    "s = \"Me\" # Allowed - s now refers to a new string object \n",
    "\n",
    "\n",
    "t = (1, 2, 3) # Tuple object\n",
    "print(t[1]) # 2\n",
    "\n",
    "t[1] = 4 # Error! Cannot modify tuple\n",
    "\n",
    "\n",
    "# Mutable Objects\n",
    "\n",
    "l = [1, 2, 3] # List object \n",
    "\n",
    "print(l) # [1, 2, 3]  \n",
    "\n",
    "l.append(4) # Modify list by appending 4\n",
    "print(l) # [1, 2, 3, 4]  \n",
    "\n",
    "l[1] = 5 # Modify 2nd element to 5\n",
    "print(l) # [1, 5, 3, 4]\n",
    "\n",
    "l = [\"a\", \"b\"] # Allowed - l can refer to a new list\n",
    "print(l) # [\"a\", \"b\"]"
   ]
  },
  {
   "cell_type": "raw",
   "id": "4904ca1b",
   "metadata": {},
   "source": [
    "Even though python sets are mutable, you can't still do set_object[3] = \"new_data\", because it's unindexed.\n",
    "Python are mutable, meaning you can add and remove elements from a set. However, sets do not support indexing because they are unordered collections"
   ]
  },
  {
   "cell_type": "markdown",
   "id": "f417fb11",
   "metadata": {},
   "source": [
    "# Creating Immutable Set"
   ]
  },
  {
   "cell_type": "code",
   "execution_count": 97,
   "id": "5855e4a0",
   "metadata": {},
   "outputs": [
    {
     "name": "stdout",
     "output_type": "stream",
     "text": [
      "{6752, 'Raincoat', 'Hello', 'Added', 'World'}\n"
     ]
    }
   ],
   "source": [
    "# Frozen Set\n",
    "set1 = set((\"Hello\", \"World\", 6752))\n",
    "set2 = {\"Added\"}\n",
    "set1.add(\"Raincoat\")\n",
    "set1.update(set2)\n",
    "print(set1)"
   ]
  },
  {
   "cell_type": "code",
   "execution_count": 98,
   "id": "c0ae62cd",
   "metadata": {},
   "outputs": [],
   "source": [
    "# Frozen Set\n",
    "set3 = frozenset(set1) # Now it's fixed"
   ]
  },
  {
   "cell_type": "code",
   "execution_count": 99,
   "id": "a8af95a1",
   "metadata": {},
   "outputs": [],
   "source": [
    "set4 = {\"Umbrella\"}"
   ]
  },
  {
   "cell_type": "code",
   "execution_count": 100,
   "id": "45dd0763",
   "metadata": {},
   "outputs": [
    {
     "ename": "AttributeError",
     "evalue": "'frozenset' object has no attribute 'update'",
     "output_type": "error",
     "traceback": [
      "\u001b[0;31m---------------------------------------------------------------------------\u001b[0m",
      "\u001b[0;31mAttributeError\u001b[0m                            Traceback (most recent call last)",
      "Cell \u001b[0;32mIn[100], line 1\u001b[0m\n\u001b[0;32m----> 1\u001b[0m set3\u001b[38;5;241m.\u001b[39mupdate(set4)\n",
      "\u001b[0;31mAttributeError\u001b[0m: 'frozenset' object has no attribute 'update'"
     ]
    }
   ],
   "source": [
    "set3.update(set4)"
   ]
  },
  {
   "cell_type": "code",
   "execution_count": 101,
   "id": "9fa15176",
   "metadata": {},
   "outputs": [
    {
     "ename": "AttributeError",
     "evalue": "'frozenset' object has no attribute 'add'",
     "output_type": "error",
     "traceback": [
      "\u001b[0;31m---------------------------------------------------------------------------\u001b[0m",
      "\u001b[0;31mAttributeError\u001b[0m                            Traceback (most recent call last)",
      "Cell \u001b[0;32mIn[101], line 1\u001b[0m\n\u001b[0;32m----> 1\u001b[0m set3\u001b[38;5;241m.\u001b[39madd(\u001b[38;5;124m\"\u001b[39m\u001b[38;5;124mNew Element\u001b[39m\u001b[38;5;124m\"\u001b[39m)\n",
      "\u001b[0;31mAttributeError\u001b[0m: 'frozenset' object has no attribute 'add'"
     ]
    }
   ],
   "source": [
    "set3.add(\"New Element\")"
   ]
  },
  {
   "cell_type": "markdown",
   "id": "129bed00",
   "metadata": {},
   "source": [
    "## Tuples and Named Tuples"
   ]
  },
  {
   "cell_type": "code",
   "execution_count": 25,
   "id": "942c1bf0",
   "metadata": {},
   "outputs": [
    {
     "name": "stdout",
     "output_type": "stream",
     "text": [
      "<class 'tuple'>\n"
     ]
    }
   ],
   "source": [
    "myTuple = (\"apple\", \"banana\", \"cherry\", \"coconut\")\n",
    "print(type(myTuple))"
   ]
  },
  {
   "cell_type": "raw",
   "id": "1b525150",
   "metadata": {},
   "source": [
    "Tuple items are ordered, unchangeable, and allow duplicate values."
   ]
  },
  {
   "cell_type": "code",
   "execution_count": 26,
   "id": "5b806993",
   "metadata": {},
   "outputs": [
    {
     "data": {
      "text/plain": [
       "4"
      ]
     },
     "execution_count": 26,
     "metadata": {},
     "output_type": "execute_result"
    }
   ],
   "source": [
    "# Printing the length\n",
    "len(myTuple)"
   ]
  },
  {
   "cell_type": "code",
   "execution_count": 27,
   "id": "154d244c",
   "metadata": {},
   "outputs": [
    {
     "name": "stdout",
     "output_type": "stream",
     "text": [
      "tupl1:<class 'str'> \n",
      "tupl2:<class 'tuple'>\n"
     ]
    }
   ],
   "source": [
    "# Tuples are comma seperated\n",
    "# Creating tuples with one element\n",
    "tupl1 = (\"apple\")\n",
    "tupl2 = (\"apple2\",)\n",
    "print(f\"tupl1:{type(tupl1)} \\ntupl2:{type(tupl2)}\")"
   ]
  },
  {
   "cell_type": "markdown",
   "id": "f21dc240",
   "metadata": {},
   "source": [
    "## tuple() constructor"
   ]
  },
  {
   "cell_type": "code",
   "execution_count": 28,
   "id": "99a8c5a8",
   "metadata": {},
   "outputs": [
    {
     "name": "stdout",
     "output_type": "stream",
     "text": [
      "<class 'tuple'>\n"
     ]
    }
   ],
   "source": [
    "# Just like set(), there is also a tuple() constructor\n",
    "tupl3 = tuple((\"apple\"))\n",
    "print(type(tupl3))"
   ]
  },
  {
   "cell_type": "code",
   "execution_count": 29,
   "id": "e37a2fa5",
   "metadata": {},
   "outputs": [
    {
     "data": {
      "text/plain": [
       "'cherry'"
      ]
     },
     "execution_count": 29,
     "metadata": {},
     "output_type": "execute_result"
    }
   ],
   "source": [
    "# Since tuples are ordered we can access by it's index, negative index and slicing\n",
    "myTuple[2]"
   ]
  },
  {
   "cell_type": "code",
   "execution_count": 30,
   "id": "c54a6a33",
   "metadata": {},
   "outputs": [],
   "source": [
    "# Since it's mutable we can change/update the values by it's index"
   ]
  },
  {
   "cell_type": "code",
   "execution_count": 31,
   "id": "508e4ee9",
   "metadata": {},
   "outputs": [
    {
     "name": "stdout",
     "output_type": "stream",
     "text": [
      "<class 'list'>\n",
      "['apple', 'banana', 'cherry', 'coconut']\n"
     ]
    }
   ],
   "source": [
    "# APPENDING\n",
    "\n",
    "# It's a little bit tricky, it doesn't have deafult in-build append function\n",
    "\n",
    "# So we need to convert tuple to list, append it and then convert back to tuple.\n",
    "myList = list(myTuple)\n",
    "print(type(myList))\n",
    "print(myList)"
   ]
  },
  {
   "cell_type": "code",
   "execution_count": 32,
   "id": "1c45286c",
   "metadata": {},
   "outputs": [],
   "source": [
    "myList.append(\"YOOOO!!\")"
   ]
  },
  {
   "cell_type": "code",
   "execution_count": 33,
   "id": "74b55baa",
   "metadata": {},
   "outputs": [],
   "source": [
    "myTuple = tuple(myList)"
   ]
  },
  {
   "cell_type": "code",
   "execution_count": 34,
   "id": "b0ed24ca",
   "metadata": {},
   "outputs": [
    {
     "name": "stdout",
     "output_type": "stream",
     "text": [
      "<class 'tuple'>\n"
     ]
    }
   ],
   "source": [
    "print(type(myTuple))"
   ]
  },
  {
   "cell_type": "code",
   "execution_count": 35,
   "id": "258d69f7",
   "metadata": {},
   "outputs": [
    {
     "name": "stdout",
     "output_type": "stream",
     "text": [
      "('apple', 'banana', 'cherry', 'coconut', 'YOOOO!!')\n"
     ]
    }
   ],
   "source": [
    "print(myTuple)"
   ]
  },
  {
   "cell_type": "code",
   "execution_count": 36,
   "id": "d3680d94",
   "metadata": {},
   "outputs": [],
   "source": [
    "# OR WE CAN JUST ADD TUPLE TO TUPLE\n",
    "\n",
    "y = (\"New Element\", )"
   ]
  },
  {
   "cell_type": "code",
   "execution_count": 37,
   "id": "78d2bd00",
   "metadata": {},
   "outputs": [],
   "source": [
    "myTuple = myTuple + y"
   ]
  },
  {
   "cell_type": "code",
   "execution_count": 38,
   "id": "a1e4ddf4",
   "metadata": {},
   "outputs": [
    {
     "name": "stdout",
     "output_type": "stream",
     "text": [
      "('apple', 'banana', 'cherry', 'coconut', 'YOOOO!!', 'New Element')\n"
     ]
    }
   ],
   "source": [
    "print(myTuple)"
   ]
  },
  {
   "cell_type": "code",
   "execution_count": 39,
   "id": "5dadffd7",
   "metadata": {},
   "outputs": [],
   "source": [
    " z = tuple((\"new One\")) # The constructor is not very useful in appending"
   ]
  },
  {
   "cell_type": "code",
   "execution_count": 40,
   "id": "c6498f1e",
   "metadata": {},
   "outputs": [
    {
     "name": "stdout",
     "output_type": "stream",
     "text": [
      "<class 'tuple'>\n"
     ]
    }
   ],
   "source": [
    "print(type(z))"
   ]
  },
  {
   "cell_type": "code",
   "execution_count": 41,
   "id": "2a27ee7b",
   "metadata": {},
   "outputs": [],
   "source": [
    "myTuple+=z"
   ]
  },
  {
   "cell_type": "code",
   "execution_count": 42,
   "id": "72cf460c",
   "metadata": {},
   "outputs": [
    {
     "name": "stdout",
     "output_type": "stream",
     "text": [
      "('apple', 'banana', 'cherry', 'coconut', 'YOOOO!!', 'New Element', 'n', 'e', 'w', ' ', 'O', 'n', 'e')\n"
     ]
    }
   ],
   "source": [
    "print(myTuple)"
   ]
  },
  {
   "cell_type": "markdown",
   "id": "aef5224d",
   "metadata": {},
   "source": [
    "### Unpacking Tuples"
   ]
  },
  {
   "cell_type": "raw",
   "id": "9984771e",
   "metadata": {},
   "source": [
    "When we create a tuple, we just add the values and that's called packing a tuple.\n",
    "\n",
    "Extracting the values back to variable is called unpacking."
   ]
  },
  {
   "cell_type": "code",
   "execution_count": 43,
   "id": "383f6043",
   "metadata": {},
   "outputs": [],
   "source": [
    "fruits_tuple = (\"Apple\", \"Banana\", \"Cherry\")\n",
    "(appl, ban, cherr) = fruits_tuple"
   ]
  },
  {
   "cell_type": "code",
   "execution_count": 45,
   "id": "3afebfb1",
   "metadata": {},
   "outputs": [
    {
     "name": "stdout",
     "output_type": "stream",
     "text": [
      "Apple\n",
      "Banana\n",
      "Cherry\n",
      "None\n",
      "None\n",
      "None\n",
      "\n"
     ]
    }
   ],
   "source": [
    "print(f\"{print(appl)}\\n{print(ban)}\\n{print(cherr)}\\n\")"
   ]
  },
  {
   "cell_type": "markdown",
   "id": "46557154",
   "metadata": {},
   "source": [
    "### Using Asterik *"
   ]
  },
  {
   "cell_type": "code",
   "execution_count": 46,
   "id": "d51b9f45",
   "metadata": {},
   "outputs": [],
   "source": [
    "fruits = (\"apple\", \"banana\", \"cherry\", \"strawberry\", \"raspberry\")\n",
    "(appl, ban, *cherr) = fruits # The aestrik value creates a list of every element from there until the end"
   ]
  },
  {
   "cell_type": "code",
   "execution_count": 48,
   "id": "63b82492",
   "metadata": {},
   "outputs": [
    {
     "name": "stdout",
     "output_type": "stream",
     "text": [
      "apple\n",
      "banana\n",
      "['cherry', 'strawberry', 'raspberry']\n",
      "<class 'list'>\n"
     ]
    }
   ],
   "source": [
    "print(appl)\n",
    "print(ban)\n",
    "print(cherr)\n",
    "print(type(cherr))"
   ]
  },
  {
   "cell_type": "code",
   "execution_count": 51,
   "id": "3206b645",
   "metadata": {},
   "outputs": [
    {
     "name": "stdout",
     "output_type": "stream",
     "text": [
      "apple\n",
      "['mango', 'papaya', 'pineapple']\n",
      "cherry\n"
     ]
    }
   ],
   "source": [
    "fruits = (\"apple\", \"mango\", \"papaya\", \"pineapple\", \"cherry\")\n",
    "\n",
    "(green, *tropic, red) = fruits # This one creates a list between green and red variable\n",
    "\n",
    "print(green)\n",
    "print(tropic)\n",
    "print(red)"
   ]
  },
  {
   "cell_type": "markdown",
   "id": "39c37cd2",
   "metadata": {},
   "source": [
    "### Looping between tuples"
   ]
  },
  {
   "cell_type": "code",
   "execution_count": 52,
   "id": "3a2d681b",
   "metadata": {},
   "outputs": [
    {
     "name": "stdout",
     "output_type": "stream",
     "text": [
      "apple\n",
      "mango\n",
      "papaya\n",
      "pineapple\n",
      "cherry\n"
     ]
    }
   ],
   "source": [
    "for x in fruits:\n",
    "    print(x)"
   ]
  },
  {
   "cell_type": "code",
   "execution_count": 53,
   "id": "9d5fe2e7",
   "metadata": {},
   "outputs": [],
   "source": [
    "# For sure the while loops works\n"
   ]
  },
  {
   "cell_type": "markdown",
   "id": "f1dc35a4",
   "metadata": {},
   "source": [
    "### Operations"
   ]
  },
  {
   "cell_type": "code",
   "execution_count": 55,
   "id": "ca383a06",
   "metadata": {},
   "outputs": [],
   "source": [
    "fruits = (\"apple\", \"banana\", \"cherry\")\n",
    "myTuple = fruits*2"
   ]
  },
  {
   "cell_type": "code",
   "execution_count": 57,
   "id": "7098f1a6",
   "metadata": {},
   "outputs": [
    {
     "name": "stdout",
     "output_type": "stream",
     "text": [
      "('apple', 'banana', 'cherry', 'apple', 'banana', 'cherry')\n"
     ]
    }
   ],
   "source": [
    "print(myTuple)"
   ]
  },
  {
   "cell_type": "code",
   "execution_count": 58,
   "id": "d62fe82f",
   "metadata": {},
   "outputs": [
    {
     "name": "stdout",
     "output_type": "stream",
     "text": [
      "('apple', 'banana', 'cherry', 'apple', 'banana', 'cherry', 'apple', 'banana', 'cherry')\n"
     ]
    }
   ],
   "source": [
    "myTuple+=fruits\n",
    "print(myTuple)"
   ]
  },
  {
   "cell_type": "markdown",
   "id": "35569786",
   "metadata": {},
   "source": [
    "## Tuple methods"
   ]
  },
  {
   "cell_type": "code",
   "execution_count": 61,
   "id": "9c8e4512",
   "metadata": {},
   "outputs": [
    {
     "data": {
      "text/plain": [
       "2"
      ]
     },
     "execution_count": 61,
     "metadata": {},
     "output_type": "execute_result"
    }
   ],
   "source": [
    "myTuple.index(\"cherry\") # Print the first occurence of cherry in myTuple"
   ]
  },
  {
   "cell_type": "code",
   "execution_count": 62,
   "id": "d25732a7",
   "metadata": {},
   "outputs": [
    {
     "data": {
      "text/plain": [
       "3"
      ]
     },
     "execution_count": 62,
     "metadata": {},
     "output_type": "execute_result"
    }
   ],
   "source": [
    "myTuple.count(\"apple\") # Number of times apple is duplicated"
   ]
  },
  {
   "cell_type": "markdown",
   "id": "391f41b1",
   "metadata": {},
   "source": [
    "## Named TUPLE"
   ]
  },
  {
   "cell_type": "raw",
   "id": "963f7c1c",
   "metadata": {},
   "source": [
    "Like dictionaries, they contain keys that are hashed to a particular value. On the contrary, it supports both access from key-value and iteration, the functionality that dictionaries lack."
   ]
  },
  {
   "cell_type": "code",
   "execution_count": 63,
   "id": "00b8a045",
   "metadata": {},
   "outputs": [
    {
     "data": {
      "text/plain": [
       "9"
      ]
     },
     "execution_count": 63,
     "metadata": {},
     "output_type": "execute_result"
    }
   ],
   "source": [
    "len(myTuple)"
   ]
  },
  {
   "cell_type": "code",
   "execution_count": 64,
   "id": "80efb9c9",
   "metadata": {},
   "outputs": [
    {
     "name": "stdout",
     "output_type": "stream",
     "text": [
      "('apple', 'banana', 'cherry', 'apple', 'banana', 'cherry', 'apple', 'banana', 'cherry')\n"
     ]
    }
   ],
   "source": [
    "print(myTuple)"
   ]
  },
  {
   "cell_type": "code",
   "execution_count": 65,
   "id": "83e93a42",
   "metadata": {},
   "outputs": [
    {
     "ename": "TypeError",
     "evalue": "'tuple' object does not support item assignment",
     "output_type": "error",
     "traceback": [
      "\u001b[0;31m---------------------------------------------------------------------------\u001b[0m",
      "\u001b[0;31mTypeError\u001b[0m                                 Traceback (most recent call last)",
      "Cell \u001b[0;32mIn[65], line 1\u001b[0m\n\u001b[0;32m----> 1\u001b[0m myTuple[\u001b[38;5;241m0\u001b[39m] \u001b[38;5;241m=\u001b[39m \u001b[38;5;124m\"\u001b[39m\u001b[38;5;124mnew\u001b[39m\u001b[38;5;124m\"\u001b[39m\n",
      "\u001b[0;31mTypeError\u001b[0m: 'tuple' object does not support item assignment"
     ]
    }
   ],
   "source": [
    "myTuple[0] = \"new\" # immutable"
   ]
  },
  {
   "cell_type": "markdown",
   "id": "315fb9b9",
   "metadata": {},
   "source": [
    "### Using NamedTuple"
   ]
  },
  {
   "cell_type": "code",
   "execution_count": 67,
   "id": "3f4af4ae",
   "metadata": {},
   "outputs": [],
   "source": [
    "from collections import namedtuple # It's in collections module"
   ]
  },
  {
   "cell_type": "code",
   "execution_count": 71,
   "id": "93d9642e",
   "metadata": {},
   "outputs": [],
   "source": [
    "Employee = namedtuple(\"Worker\", [\"Name\", \"Age\", \"Position\"])\n",
    "maxh3802 = Employee(\"Anish\", 20, \"Senior Developer\")"
   ]
  },
  {
   "cell_type": "code",
   "execution_count": 75,
   "id": "5e4c1431",
   "metadata": {},
   "outputs": [
    {
     "name": "stdout",
     "output_type": "stream",
     "text": [
      "The name of maxh3802 is Anish\n",
      "The age of maxh3802 is 20\n",
      "The position of maxh3802 is Senior Developer\n"
     ]
    }
   ],
   "source": [
    "# Accessing by Key\n",
    "print(f\"The name of maxh3802 is {maxh3802.Name}\")\n",
    "print(f\"The age of maxh3802 is {maxh3802.Age}\")\n",
    "print(f\"The position of maxh3802 is {maxh3802.Position}\")"
   ]
  },
  {
   "cell_type": "code",
   "execution_count": 76,
   "id": "3b06c216",
   "metadata": {},
   "outputs": [],
   "source": [
    "maxh3803 = Employee(Name = \"Anish\", Age = 20, Position = \"Senior Developer\")"
   ]
  },
  {
   "cell_type": "code",
   "execution_count": 80,
   "id": "b215d6aa",
   "metadata": {},
   "outputs": [
    {
     "name": "stdout",
     "output_type": "stream",
     "text": [
      "The name of maxh3803 is Anish\n",
      "The age of maxh3803 is 20\n",
      "The position of maxh3803 is Senior Developer\n"
     ]
    }
   ],
   "source": [
    "print(f\"The name of maxh3803 is {maxh3803.Name}\")\n",
    "print(f\"The age of maxh3803 is {maxh3803.Age}\")\n",
    "print(f\"The position of maxh3803 is {maxh3803.Position}\")"
   ]
  },
  {
   "cell_type": "code",
   "execution_count": 81,
   "id": "5c6d5581",
   "metadata": {},
   "outputs": [
    {
     "name": "stdout",
     "output_type": "stream",
     "text": [
      "The name of maxh3803 is Anish\n"
     ]
    }
   ],
   "source": [
    "# Accessing my index\n",
    "print(f\"The name of maxh3803 is {maxh3803[0]}\")"
   ]
  },
  {
   "cell_type": "code",
   "execution_count": null,
   "id": "1b6ef3e4",
   "metadata": {},
   "outputs": [],
   "source": []
  }
 ],
 "metadata": {
  "kernelspec": {
   "display_name": "Python 3 (ipykernel)",
   "language": "python",
   "name": "python3"
  },
  "language_info": {
   "codemirror_mode": {
    "name": "ipython",
    "version": 3
   },
   "file_extension": ".py",
   "mimetype": "text/x-python",
   "name": "python",
   "nbconvert_exporter": "python",
   "pygments_lexer": "ipython3",
   "version": "3.11.5"
  }
 },
 "nbformat": 4,
 "nbformat_minor": 5
}
