{
 "cells": [
  {
   "cell_type": "markdown",
   "id": "72b17db3",
   "metadata": {},
   "source": [
    " ## What is a Algorithm?"
   ]
  },
  {
   "cell_type": "raw",
   "id": "a456e4fb",
   "metadata": {},
   "source": [
    "An algorithm can be defined as a step by step instructions for a program to follow to solve any given problem; An Algorithm process the input data and gives the output based on the specific problem."
   ]
  },
  {
   "cell_type": "markdown",
   "id": "ca09ee57",
   "metadata": {},
   "source": [
    "## What is Data Structure used for?\n"
   ]
  },
  {
   "cell_type": "raw",
   "id": "7c61854f",
   "metadata": {},
   "source": [
    "Data structure deals with how the data is stored and organized in memory of the computer that is going to be used in the program"
   ]
  },
  {
   "cell_type": "markdown",
   "id": "7efda35f",
   "metadata": {},
   "source": [
    "# Overview of Data Types and Obejcts"
   ]
  },
  {
   "cell_type": "markdown",
   "id": "9c1cd823",
   "metadata": {},
   "source": [
    "An Algorithm can be converted into a computer software using any programming language.\n",
    "\n",
    "The performance efficency of a computer software depends highly upon how the data is stored in the memory of the computer, which is then going to be used in the computer"
   ]
  },
  {
   "cell_type": "raw",
   "id": "1cdd61bc",
   "metadata": {},
   "source": [
    "Python is a Dynamically Typed Language which means the data type of a variable is not required while defining a variable. Python automatically recognize the type of variable during the runtime"
   ]
  },
  {
   "cell_type": "raw",
   "id": "955e89e3",
   "metadata": {},
   "source": [
    "There are various type of Data Structures : \n",
    "    1.) Numeric types  : Intergers (int), float, complex\n",
    "    2.) Boolean types  : bool\n",
    "    3.) Sequence types : String(str), range, list, tuple\n",
    "    4.) Mapping types  : Dictionary(dict)\n",
    "    5.) Set types      : set, frozenset"
   ]
  },
  {
   "cell_type": "markdown",
   "id": "68a9727a",
   "metadata": {},
   "source": [
    "### type()"
   ]
  },
  {
   "cell_type": "code",
   "execution_count": 2,
   "id": "613c31ab",
   "metadata": {},
   "outputs": [
    {
     "name": "stdout",
     "output_type": "stream",
     "text": [
      "var1 = <class 'str'>\n",
      "var2 = <class 'int'>\n",
      "var3 = <class 'float'>\n",
      "var4 = <class 'list'>\n",
      "var5 = <class 'set'>\n",
      "\n"
     ]
    }
   ],
   "source": [
    "# We can check the type of the variable using the type() function\n",
    "\n",
    "var1 = \"Hello World\"\n",
    "var2 = 3\n",
    "var3 = 4.5\n",
    "var4 = [1,2]\n",
    "var5 = {1,2,4}\n",
    "print(f\"var1 = {type(var1)}\\nvar2 = {type(var2)}\\nvar3 = {type(var3)}\\nvar4 = {type(var4)}\\nvar5 = {type(var5)}\\n\")"
   ]
  },
  {
   "cell_type": "code",
   "execution_count": null,
   "id": "2fe80f93",
   "metadata": {},
   "outputs": [],
   "source": []
  }
 ],
 "metadata": {
  "kernelspec": {
   "display_name": "Python 3 (ipykernel)",
   "language": "python",
   "name": "python3"
  },
  "language_info": {
   "codemirror_mode": {
    "name": "ipython",
    "version": 3
   },
   "file_extension": ".py",
   "mimetype": "text/x-python",
   "name": "python",
   "nbconvert_exporter": "python",
   "pygments_lexer": "ipython3",
   "version": "3.11.4"
  }
 },
 "nbformat": 4,
 "nbformat_minor": 5
}
