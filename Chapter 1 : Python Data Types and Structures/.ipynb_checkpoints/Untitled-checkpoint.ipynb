{
 "cells": [
  {
   "cell_type": "markdown",
   "id": "85d1f820",
   "metadata": {},
   "source": [
    " ## What is a Algorithm?"
   ]
  },
  {
   "cell_type": "raw",
   "id": "2d9ca199",
   "metadata": {},
   "source": [
    "An algorithm can be defined as a step by step instructions for a program to follow to solve any given problem; An Algorithm process the input data and gives the output based on the specific problem."
   ]
  },
  {
   "cell_type": "markdown",
   "id": "ccd04d5d",
   "metadata": {},
   "source": [
    "## What is Data Structure used for?\n"
   ]
  },
  {
   "cell_type": "raw",
   "id": "da81f128",
   "metadata": {},
   "source": [
    "Data structure deals with how the data is stored and organized in memory of the computer that is going to be used in the program"
   ]
  },
  {
   "cell_type": "markdown",
   "id": "44b8a6db",
   "metadata": {},
   "source": [
    "# Overview of Data Types and Obejcts"
   ]
  },
  {
   "cell_type": "markdown",
   "id": "0cac1ef2",
   "metadata": {},
   "source": [
    "An Algorithm can be converted into a computer software using any programming language.\n",
    "\n",
    "The performance efficency of a computer software depends highly upon how the data is stored in the memory of the computer, which is then going to be used in the computer"
   ]
  },
  {
   "cell_type": "raw",
   "id": "d112e0a8",
   "metadata": {},
   "source": [
    "Python is a Dynamically Typed Language which means the data type of a variable is not required while defining a variable. Python automatically recognize the type of variable during the runtime"
   ]
  },
  {
   "cell_type": "raw",
   "id": "3c58ac0c",
   "metadata": {},
   "source": [
    "There are various type of Data Structures : \n",
    "    1.) Numeric types  : Intergers (int), float, complex\n",
    "    2.) Boolean types  : bool\n",
    "    3.) Sequence types : String(str), range, list, tuple\n",
    "    4.) Mapping types  : Dictionary(dict)\n",
    "    5.) Set types      : set, frozenset"
   ]
  },
  {
   "cell_type": "markdown",
   "id": "9419307e",
   "metadata": {},
   "source": [
    "### type()"
   ]
  },
  {
   "cell_type": "code",
   "execution_count": 2,
   "id": "6de8584e",
   "metadata": {},
   "outputs": [
    {
     "name": "stdout",
     "output_type": "stream",
     "text": [
      "var1 = <class 'str'>\n",
      "var2 = <class 'int'>\n",
      "var3 = <class 'float'>\n",
      "var4 = <class 'list'>\n",
      "var5 = <class 'set'>\n",
      "\n"
     ]
    }
   ],
   "source": [
    "# We can check the type of the variable using the type() function\n",
    "\n",
    "var1 = \"Hello World\"\n",
    "var2 = 3\n",
    "var3 = 4.5\n",
    "var4 = [1,2]\n",
    "var5 = {1,2,4}\n",
    "print(f\"var1 = {type(var1)}\\nvar2 = {type(var2)}\\nvar3 = {type(var3)}\\nvar4 = {type(var4)}\\nvar5 = {type(var5)}\\n\")"
   ]
  },
  {
   "cell_type": "markdown",
   "id": "6bb324fd",
   "metadata": {},
   "source": [
    "### Basic Data Types"
   ]
  },
  {
   "cell_type": "raw",
   "id": "f0b7a76e",
   "metadata": {},
   "source": [
    "    Numeric :\n",
    "        Interger : Example : 45, 19 , 100, -49, -10 ; Basically with no decimals\n",
    "        Float    : 3.1, 4.3 ; Basically with decimals\n",
    "        Complex  : Represented using two floating-point values. It contains ordered pair such                    as a+ib, where a and b are real value and i is an imiginary value. \n",
    "                   E.g : 3.0 + 1.3j, 4.0j and so on"
   ]
  },
  {
   "cell_type": "code",
   "execution_count": 15,
   "id": "13890881",
   "metadata": {},
   "outputs": [
    {
     "name": "stdout",
     "output_type": "stream",
     "text": [
      "int1 = <class 'int'>\tint2 = <class 'int'>\n",
      "float1 = <class 'float'> float2 = <class 'float'>\n",
      "cmplx1 = <class 'complex'> cmplx2 = <class 'complex'> cmplx3 = <class 'complex'>\n"
     ]
    }
   ],
   "source": [
    "int1 = 4; int2 = -4\n",
    "print(f\"int1 = {type(int1)}\\tint2 = {type(int2)}\")\n",
    "float1 = 4.0; float2 = -4.2\n",
    "print(f\"float1 = {type(float1)} float2 = {type(float2)}\")\n",
    "cmplx1 = 3.0 + 1.3j; cmplx2 = -4.2 + 3.1j; cmplx3 = -4.2j\n",
    "print(f\"cmplx1 = {type(cmplx1)} cmplx2 = {type(cmplx2)} cmplx3 = {type(cmplx3)}\")"
   ]
  },
  {
   "cell_type": "raw",
   "id": "849b4338",
   "metadata": {},
   "source": [
    "Boolean\n",
    "\n",
    "It's either True or False. False is always represented by 0 numerically and True is anything but 0. "
   ]
  },
  {
   "cell_type": "code",
   "execution_count": 16,
   "id": "4f4f7d0d",
   "metadata": {},
   "outputs": [
    {
     "name": "stdout",
     "output_type": "stream",
     "text": [
      "False\n",
      "True\n",
      "True\n",
      "True\n",
      "True\n"
     ]
    }
   ],
   "source": [
    "# We can use bool() function to check\n",
    "\n",
    "print(bool(0))\n",
    "print(bool(1))\n",
    "print(bool(4))\n",
    "print(bool(0.3))\n",
    "print(bool(-0.2))"
   ]
  },
  {
   "cell_type": "markdown",
   "id": "3f6ca6fd",
   "metadata": {},
   "source": [
    "## Sequences\n",
    "\n",
    "A string is immutable sequence of characters represented in single, double or triple quotes."
   ]
  },
  {
   "cell_type": "code",
   "execution_count": 28,
   "id": "618f51c6",
   "metadata": {},
   "outputs": [
    {
     "name": "stdout",
     "output_type": "stream",
     "text": [
      "type : <class 'str'>\n",
      "Changed\n",
      "Before : <class 'int'>\t Value : 4\n",
      "After : <class 'float'>\t Value : 4.0\n",
      "Error : could not convert string to float\n"
     ]
    }
   ],
   "source": [
    "# What does immutable mean? \n",
    "# Lets say there is a string str1\n",
    "str1 = \" This is a string which is naturally immutable\"\n",
    "# Lets type of change it's content\n",
    "str1 = \"Changed\"\n",
    "print(f\"type : {type(str1)}\\n{str1}\")\n",
    "\n",
    "# Lets say there is a integer 4, we want to change to float\n",
    "var1 = 4\n",
    "print(f\"Before : {type(var1)}\\t Value : {var1}\")\n",
    "var1 = float(var1)\n",
    "print(f\"After : {type(var1)}\\t Value : {var1}\")\n",
    "\n",
    "\n",
    "# Lets try same thing with an string\n",
    "try : \n",
    "    str1 = float(str1);\n",
    "except :\n",
    "    print (\"Error : could not convert string to float\")\n",
    "    \n",
    "# We get an error. That means it cannot be typecasted"
   ]
  },
  {
   "cell_type": "markdown",
   "id": "0c53e85f",
   "metadata": {},
   "source": [
    "### Add two Strings..\n",
    "### What?????"
   ]
  },
  {
   "cell_type": "code",
   "execution_count": 30,
   "id": "bbd8ebc7",
   "metadata": {},
   "outputs": [
    {
     "name": "stdout",
     "output_type": "stream",
     "text": [
      "Datastructures\n"
     ]
    }
   ],
   "source": [
    "# Only concatenate two strings\n",
    "f = \"Data\"; s = \"structures\"\n",
    "print(f+s)"
   ]
  },
  {
   "cell_type": "markdown",
   "id": "c56b214b",
   "metadata": {},
   "source": [
    "## Multiply ? "
   ]
  },
  {
   "cell_type": "code",
   "execution_count": 33,
   "id": "5db49f1c",
   "metadata": {},
   "outputs": [
    {
     "name": "stdout",
     "output_type": "stream",
     "text": [
      "DataDataDataData\n"
     ]
    }
   ],
   "source": [
    "print(f*4) # Just see what it will do"
   ]
  },
  {
   "cell_type": "markdown",
   "id": "c206d269",
   "metadata": {},
   "source": [
    "## Range"
   ]
  },
  {
   "cell_type": "code",
   "execution_count": 36,
   "id": "d860cde7",
   "metadata": {},
   "outputs": [
    {
     "name": "stdout",
     "output_type": "stream",
     "text": [
      "range(0, 10, 2)\n",
      "[0, 2, 4, 6, 8]\n"
     ]
    }
   ],
   "source": [
    "# range(start, stop, step)\n",
    "# - start => what is the number to start from. It's inclusive\n",
    "# - end   => where to stop. It's exclusive \n",
    "# - step  => how many steps to jump; deafult is 0.\n",
    "\n",
    "print(range(0,10,2))\n",
    "print(list(range(0,10,2)))"
   ]
  },
  {
   "cell_type": "markdown",
   "id": "4c62bb19",
   "metadata": {},
   "source": [
    "## Lists"
   ]
  },
  {
   "cell_type": "code",
   "execution_count": null,
   "id": "2c151e45",
   "metadata": {},
   "outputs": [],
   "source": []
  }
 ],
 "metadata": {
  "kernelspec": {
   "display_name": "Python 3 (ipykernel)",
   "language": "python",
   "name": "python3"
  },
  "language_info": {
   "codemirror_mode": {
    "name": "ipython",
    "version": 3
   },
   "file_extension": ".py",
   "mimetype": "text/x-python",
   "name": "python",
   "nbconvert_exporter": "python",
   "pygments_lexer": "ipython3",
   "version": "3.11.4"
  }
 },
 "nbformat": 4,
 "nbformat_minor": 5
}
