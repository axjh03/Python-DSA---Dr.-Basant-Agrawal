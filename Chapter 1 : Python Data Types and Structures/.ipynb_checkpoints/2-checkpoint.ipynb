{
 "cells": [
  {
   "cell_type": "markdown",
   "id": "f9d2ea85",
   "metadata": {},
   "source": [
    "## Deque"
   ]
  },
  {
   "cell_type": "raw",
   "id": "343939f7",
   "metadata": {},
   "source": [
    "It's like double linked list. It supports append and pop from both sides of the list. \n",
    "It has O(1) time complexity"
   ]
  },
  {
   "cell_type": "code",
   "execution_count": 11,
   "id": "284d3bed",
   "metadata": {},
   "outputs": [],
   "source": [
    "from collections import deque"
   ]
  },
  {
   "cell_type": "code",
   "execution_count": 12,
   "id": "4d81252d",
   "metadata": {},
   "outputs": [
    {
     "name": "stdout",
     "output_type": "stream",
     "text": [
      "deque([])\n"
     ]
    }
   ],
   "source": [
    "# create an empty deque\n",
    "s = deque()\n",
    "print(s)"
   ]
  },
  {
   "cell_type": "code",
   "execution_count": 13,
   "id": "dcf6d9a2",
   "metadata": {},
   "outputs": [
    {
     "name": "stdout",
     "output_type": "stream",
     "text": [
      "deque([1, 2, 'None'])\n"
     ]
    }
   ],
   "source": [
    "# Creating an non-empty deque\n",
    "new_queue = deque([1,2,\"None\"])\n",
    "print(new_queue)"
   ]
  },
  {
   "cell_type": "code",
   "execution_count": 14,
   "id": "9ac1de2a",
   "metadata": {},
   "outputs": [
    {
     "name": "stdout",
     "output_type": "stream",
     "text": [
      "deque(['Added on left', 1, 2, 'None', 'Added on Right'])\n",
      "deque([1, 2, 'None'])\n"
     ]
    }
   ],
   "source": [
    "# METHODS\n",
    "\n",
    "# appending\n",
    "new_queue.append(\"Added on Right\") # On the end\n",
    "new_queue.appendleft(\"Added on left\") # On the beginning\n",
    "print(new_queue)\n",
    "\n",
    "# removing\n",
    "new_queue.pop() # Removes from the end\n",
    "new_queue.popleft() # Removes from the beginning\n",
    "print(new_queue)"
   ]
  },
  {
   "cell_type": "markdown",
   "id": "1ba86266",
   "metadata": {},
   "source": [
    "## Ordered Dictionaries. From Python 3.7 onwards, all dictionaries are ordered"
   ]
  },
  {
   "cell_type": "code",
   "execution_count": 21,
   "id": "9d7e4895",
   "metadata": {},
   "outputs": [
    {
     "name": "stdout",
     "output_type": "stream",
     "text": [
      "20\n",
      "{'key1': 20, 'key2': 30, 'key3': 40, 'key5': 10, 'key4': 15}\n",
      "{10: 'Yo', 20: 'Lol', 5: 'HEllo', 12: 'World'}\n"
     ]
    }
   ],
   "source": [
    "# Normal Dictionaries i.e Preserve the order of key they are inserted\n",
    "dict_norm = {\"key1\" : 20,\n",
    "             \"key2\" : 30,\n",
    "             \"key3\" : 40, \n",
    "             \"key5\" : 10,\n",
    "             \"key4\" : 15}\n",
    "\n",
    "dict_norm1 = {10:\"Yo\",\n",
    "             20:\"Lol\",\n",
    "             5:\"HEllo\",\n",
    "             12:\"World\"}\n",
    "\n",
    "print(dict_norm[\"key1\"])\n",
    "print(dict_norm)\n",
    "print(dict_norm1)"
   ]
  },
  {
   "cell_type": "code",
   "execution_count": 25,
   "id": "70d379a6",
   "metadata": {},
   "outputs": [
    {
     "name": "stdout",
     "output_type": "stream",
     "text": [
      "<class 'collections.OrderedDict'>\n",
      "OrderedDict([('my', 100), ('name', 20), ('is', 40), ('hello', 90)])\n"
     ]
    }
   ],
   "source": [
    "# Ordered Dictionaries\n",
    "from collections import OrderedDict\n",
    "od = OrderedDict({\"my\" : 100, \"name\" : 20, \"is\" : 40})\n",
    "od[\"hello\"] = 90 # New element\n",
    "print(type(od))\n",
    "print(od)"
   ]
  },
  {
   "cell_type": "markdown",
   "id": "85584188",
   "metadata": {},
   "source": [
    "## ChainMap Object"
   ]
  },
  {
   "cell_type": "code",
   "execution_count": 26,
   "id": "aa996662",
   "metadata": {},
   "outputs": [],
   "source": [
    "# It is used to create a list of dictionaries\n",
    "\n",
    "# You can eventually search anything between the dictionaries, it will search though dictionaries \n",
    "# one by one until the key is found"
   ]
  },
  {
   "cell_type": "code",
   "execution_count": 27,
   "id": "2cee46aa",
   "metadata": {},
   "outputs": [],
   "source": [
    "from collections import ChainMap"
   ]
  },
  {
   "cell_type": "code",
   "execution_count": 28,
   "id": "2d624a9d",
   "metadata": {},
   "outputs": [],
   "source": [
    "dict1 = {\"data\"  : 1, \"structures\" : 2}\n",
    "dict2 = {\"japan\" : 100, \"korea\" : 20}\n",
    "dict_ultimate = ChainMap(dict1, dict2)"
   ]
  },
  {
   "cell_type": "code",
   "execution_count": 29,
   "id": "74f92cec",
   "metadata": {},
   "outputs": [
    {
     "name": "stdout",
     "output_type": "stream",
     "text": [
      "ChainMap({'data': 1, 'structures': 2}, {'japan': 100, 'korea': 20})\n"
     ]
    }
   ],
   "source": [
    "print(dict_ultimate)"
   ]
  },
  {
   "cell_type": "code",
   "execution_count": 30,
   "id": "dfd98988",
   "metadata": {},
   "outputs": [
    {
     "name": "stdout",
     "output_type": "stream",
     "text": [
      "KeysView(ChainMap({'data': 1, 'structures': 2}, {'japan': 100, 'korea': 20}))\n"
     ]
    }
   ],
   "source": [
    "print(dict_ultimate.keys())"
   ]
  },
  {
   "cell_type": "code",
   "execution_count": 31,
   "id": "fca2027d",
   "metadata": {},
   "outputs": [
    {
     "name": "stdout",
     "output_type": "stream",
     "text": [
      "ValuesView(ChainMap({'data': 1, 'structures': 2}, {'japan': 100, 'korea': 20}))\n"
     ]
    }
   ],
   "source": [
    "print(dict_ultimate.values())"
   ]
  },
  {
   "cell_type": "code",
   "execution_count": 32,
   "id": "18ddbd40",
   "metadata": {},
   "outputs": [
    {
     "data": {
      "text/plain": [
       "20"
      ]
     },
     "execution_count": 32,
     "metadata": {},
     "output_type": "execute_result"
    }
   ],
   "source": [
    "dict_ultimate[\"korea\"]"
   ]
  },
  {
   "cell_type": "code",
   "execution_count": 33,
   "id": "b8ee78be",
   "metadata": {},
   "outputs": [
    {
     "name": "stdout",
     "output_type": "stream",
     "text": [
      "2\n"
     ]
    }
   ],
   "source": [
    "print(dict_ultimate[\"structures\"])"
   ]
  },
  {
   "cell_type": "markdown",
   "id": "1f130343",
   "metadata": {},
   "source": [
    "## Counter"
   ]
  },
  {
   "cell_type": "code",
   "execution_count": 34,
   "id": "65aabfd1",
   "metadata": {},
   "outputs": [
    {
     "name": "stdout",
     "output_type": "stream",
     "text": [
      "Counter({'A': 2, 'l': 2, 'a': 2, 'h': 1, 'H': 1, 'u': 1, 'k': 1, 'b': 1, 'r': 1})\n"
     ]
    }
   ],
   "source": [
    "#Counter object create a hash table in which the element and their count are stored as keys and values respectively.\n",
    "from collections import Counter\n",
    "\n",
    "my_string = Counter(\"AllahHuAkbar\")\n",
    "print(my_string)\n",
    "# A is 2 times, l is 2 times, a-2, and rest all one times"
   ]
  },
  {
   "cell_type": "code",
   "execution_count": 35,
   "id": "02ba1929",
   "metadata": {},
   "outputs": [
    {
     "name": "stdout",
     "output_type": "stream",
     "text": [
      "2\n"
     ]
    }
   ],
   "source": [
    "print(my_string[\"A\"]) # A is 2 times in the string."
   ]
  },
  {
   "cell_type": "code",
   "execution_count": 36,
   "id": "7be05a21",
   "metadata": {},
   "outputs": [],
   "source": [
    "# It creates like a dictionary of character as keys and times of occurence as values"
   ]
  },
  {
   "cell_type": "markdown",
   "id": "2fbfd334",
   "metadata": {},
   "source": [
    "## UserDict"
   ]
  },
  {
   "cell_type": "code",
   "execution_count": 40,
   "id": "44d11b88",
   "metadata": {},
   "outputs": [
    {
     "name": "stdout",
     "output_type": "stream",
     "text": [
      "Cannot push you fcker\n"
     ]
    }
   ],
   "source": [
    "# It's like giving custom abilities to dictionaries\n",
    "from collections import UserDict\n",
    "\n",
    "class MyDict(UserDict):\n",
    "    def append(self, key, value):\n",
    "        self[key] = value\n",
    "    def push(self, key, value):\n",
    "        print(\"Cannot push you fcker\")\n",
    "        \n",
    "d = MyDict({\"ab\":1, \"bc\":2})\n",
    "d.append(\"de\",3)\n",
    "d.push(\"ef\", 4)"
   ]
  },
  {
   "cell_type": "code",
   "execution_count": 39,
   "id": "487b2d56",
   "metadata": {},
   "outputs": [
    {
     "name": "stdout",
     "output_type": "stream",
     "text": [
      "{'ab': 1, 'bc': 2, 'de': 3}\n"
     ]
    }
   ],
   "source": [
    "print(d)"
   ]
  },
  {
   "cell_type": "markdown",
   "id": "18d187a9",
   "metadata": {},
   "source": [
    "## UserList"
   ]
  },
  {
   "cell_type": "code",
   "execution_count": 47,
   "id": "82a8d939",
   "metadata": {},
   "outputs": [
    {
     "name": "stdout",
     "output_type": "stream",
     "text": [
      "[11, 2, 3, 4, 5, 30]\n"
     ]
    }
   ],
   "source": [
    "from collections import UserList\n",
    "\n",
    "class UltimateList(UserList):\n",
    "    def push(self, new_data):\n",
    "        self.append(new_data)\n",
    "\n",
    "# Create an instance of UltimateList\n",
    "lst = UltimateList([11, 2, 3, 4, 5])\n",
    "\n",
    "# Use the overridden push/append method\n",
    "lst.push(30)\n",
    "\n",
    "# Print the modified list\n",
    "print(lst)\n"
   ]
  },
  {
   "cell_type": "markdown",
   "id": "7f354bad",
   "metadata": {},
   "source": [
    "## UserString"
   ]
  },
  {
   "cell_type": "code",
   "execution_count": 48,
   "id": "a30fafcf",
   "metadata": {},
   "outputs": [
    {
     "name": "stdout",
     "output_type": "stream",
     "text": [
      "GodDamnYEahh\n"
     ]
    }
   ],
   "source": [
    "# Creating custom append function for string\n",
    "\n",
    "from collections import UserString\n",
    "\n",
    "class UltimateString(UserString):\n",
    "    def add(self, new_chars):\n",
    "        self.data += new_chars # Basically we added two strings\n",
    "\n",
    "s1 = UltimateString(\"GodDamn\")\n",
    "s1.add(\"YEahh\")\n",
    "print(s1)"
   ]
  },
  {
   "cell_type": "code",
   "execution_count": null,
   "id": "5fc3da68",
   "metadata": {},
   "outputs": [],
   "source": []
  }
 ],
 "metadata": {
  "kernelspec": {
   "display_name": "Python 3 (ipykernel)",
   "language": "python",
   "name": "python3"
  },
  "language_info": {
   "codemirror_mode": {
    "name": "ipython",
    "version": 3
   },
   "file_extension": ".py",
   "mimetype": "text/x-python",
   "name": "python",
   "nbconvert_exporter": "python",
   "pygments_lexer": "ipython3",
   "version": "3.11.5"
  }
 },
 "nbformat": 4,
 "nbformat_minor": 5
}
